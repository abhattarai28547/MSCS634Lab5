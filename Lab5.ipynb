{
 "cells": [
  {
   "cell_type": "markdown",
   "id": "604e1305",
   "metadata": {},
   "source": []
  },
  {
   "cell_type": "code",
   "execution_count": 64,
   "id": "5ec3e667",
   "metadata": {},
   "outputs": [
    {
     "name": "stdout",
     "output_type": "stream",
     "text": [
      "--- First 5 Rows ---\n",
      "   alcohol  malic_acid   ash  alcalinity_of_ash  magnesium  total_phenols  \\\n",
      "0    14.23        1.71  2.43               15.6      127.0           2.80   \n",
      "1    13.20        1.78  2.14               11.2      100.0           2.65   \n",
      "2    13.16        2.36  2.67               18.6      101.0           2.80   \n",
      "3    14.37        1.95  2.50               16.8      113.0           3.85   \n",
      "4    13.24        2.59  2.87               21.0      118.0           2.80   \n",
      "\n",
      "   flavanoids  nonflavanoid_phenols  proanthocyanins  color_intensity   hue  \\\n",
      "0        3.06                  0.28             2.29             5.64  1.04   \n",
      "1        2.76                  0.26             1.28             4.38  1.05   \n",
      "2        3.24                  0.30             2.81             5.68  1.03   \n",
      "3        3.49                  0.24             2.18             7.80  0.86   \n",
      "4        2.69                  0.39             1.82             4.32  1.04   \n",
      "\n",
      "   od280/od315_of_diluted_wines  proline  \n",
      "0                          3.92   1065.0  \n",
      "1                          3.40   1050.0  \n",
      "2                          3.17   1185.0  \n",
      "3                          3.45   1480.0  \n",
      "4                          2.93    735.0  \n",
      "\n",
      "--- Dataset Info ---\n",
      "<class 'pandas.core.frame.DataFrame'>\n",
      "RangeIndex: 178 entries, 0 to 177\n",
      "Data columns (total 13 columns):\n",
      " #   Column                        Non-Null Count  Dtype  \n",
      "---  ------                        --------------  -----  \n",
      " 0   alcohol                       178 non-null    float64\n",
      " 1   malic_acid                    178 non-null    float64\n",
      " 2   ash                           178 non-null    float64\n",
      " 3   alcalinity_of_ash             178 non-null    float64\n",
      " 4   magnesium                     178 non-null    float64\n",
      " 5   total_phenols                 178 non-null    float64\n",
      " 6   flavanoids                    178 non-null    float64\n",
      " 7   nonflavanoid_phenols          178 non-null    float64\n",
      " 8   proanthocyanins               178 non-null    float64\n",
      " 9   color_intensity               178 non-null    float64\n",
      " 10  hue                           178 non-null    float64\n",
      " 11  od280/od315_of_diluted_wines  178 non-null    float64\n",
      " 12  proline                       178 non-null    float64\n",
      "dtypes: float64(13)\n",
      "memory usage: 18.2 KB\n",
      "\n",
      "--- Descriptive Statistics ---\n",
      "          alcohol  malic_acid         ash  alcalinity_of_ash   magnesium  \\\n",
      "count  178.000000  178.000000  178.000000         178.000000  178.000000   \n",
      "mean    13.000618    2.336348    2.366517          19.494944   99.741573   \n",
      "std      0.811827    1.117146    0.274344           3.339564   14.282484   \n",
      "min     11.030000    0.740000    1.360000          10.600000   70.000000   \n",
      "25%     12.362500    1.602500    2.210000          17.200000   88.000000   \n",
      "50%     13.050000    1.865000    2.360000          19.500000   98.000000   \n",
      "75%     13.677500    3.082500    2.557500          21.500000  107.000000   \n",
      "max     14.830000    5.800000    3.230000          30.000000  162.000000   \n",
      "\n",
      "       total_phenols  flavanoids  nonflavanoid_phenols  proanthocyanins  \\\n",
      "count     178.000000  178.000000            178.000000       178.000000   \n",
      "mean        2.295112    2.029270              0.361854         1.590899   \n",
      "std         0.625851    0.998859              0.124453         0.572359   \n",
      "min         0.980000    0.340000              0.130000         0.410000   \n",
      "25%         1.742500    1.205000              0.270000         1.250000   \n",
      "50%         2.355000    2.135000              0.340000         1.555000   \n",
      "75%         2.800000    2.875000              0.437500         1.950000   \n",
      "max         3.880000    5.080000              0.660000         3.580000   \n",
      "\n",
      "       color_intensity         hue  od280/od315_of_diluted_wines      proline  \n",
      "count       178.000000  178.000000                    178.000000   178.000000  \n",
      "mean          5.058090    0.957449                      2.611685   746.893258  \n",
      "std           2.318286    0.228572                      0.709990   314.907474  \n",
      "min           1.280000    0.480000                      1.270000   278.000000  \n",
      "25%           3.220000    0.782500                      1.937500   500.500000  \n",
      "50%           4.690000    0.965000                      2.780000   673.500000  \n",
      "75%           6.200000    1.120000                      3.170000   985.000000  \n",
      "max          13.000000    1.710000                      4.000000  1680.000000  \n"
     ]
    }
   ],
   "source": [
    "# Import necessary libraries\n",
    "import pandas as pd\n",
    "from sklearn.datasets import load_wine\n",
    "from sklearn.preprocessing import StandardScaler\n",
    "\n",
    "# Load the Wine dataset\n",
    "wine = load_wine()\n",
    "X = pd.DataFrame(wine.data, columns=wine.feature_names)\n",
    "y = pd.Series(wine.target, name='target')\n",
    "\n",
    "# Examine the dataset's structure\n",
    "print(\"--- First 5 Rows ---\")\n",
    "print(X.head())\n",
    "print(\"\\n--- Dataset Info ---\")\n",
    "X.info()\n",
    "print(\"\\n--- Descriptive Statistics ---\")\n",
    "print(X.describe())\n",
    "\n",
    "# Standardize the features\n",
    "scaler = StandardScaler()\n",
    "X_scaled = scaler.fit_transform(X)"
   ]
  },
  {
   "cell_type": "markdown",
   "id": "a6e27f55",
   "metadata": {},
   "source": [
    "- Loaded the Wine dataset from sklearn.\n",
    "\n",
    "- Used .head(), .info(), and .describe() to examine the dataset’s structure, data types, and basic statistics.\n",
    "\n",
    "- Applied StandardScaler to standardize the features by removing the mean and scaling to unit variance.\n",
    "    - This ensures all features contribute equally to distance-based algorithms like clustering."
   ]
  },
  {
   "cell_type": "markdown",
   "id": "6b099b66",
   "metadata": {},
   "source": [
    "# 2. Hierarchical Clustering"
   ]
  },
  {
   "cell_type": "code",
   "execution_count": 65,
   "id": "ad9208c0",
   "metadata": {},
   "outputs": [
    {
     "data": {
      "image/png": "[encoded data removed]",
      "text/plain": [
       "<Figure size 1000x600 with 2 Axes>"
      ]
     },
     "metadata": {},
     "output_type": "display_data"
    },
    {
     "data": {
      "application/vnd.plotly.v1+json": {
       "config": {
        "plotlyServerURL": "https://plot.ly"
       },
       "data": [
        {
         "hoverinfo": "text",
         "marker": {
          "color": "rgb(61,153,112)"
         },
         "mode": "lines",
         "type": "scatter",
         "x": {
          "bdata": "AAAAAAAALkAAAAAAAAAuQAAAAAAAADlAAAAAAAAAOUA=",
          "dtype": "f8"
         },
         "xaxis": "x",
         "y": {
          "bdata": "AAAAAAAAAADjoKHTK8wAQOOgodMrzABAAAAAAAAAAAA=",
          "dtype": "f8"
         },
         "yaxis": "y"
        },
        {
         "hoverinfo": "text",
         "marker": {
          "color": "rgb(61,153,112)"
         },
         "mode": "lines",
         "type": "scatter",
         "x": {
          "bdata": "AAAAAAAAFEAAAAAAAAAUQAAAAAAAADRAAAAAAAAANEA=",
          "dtype": "f8"
         },
         "xaxis": "x",
         "y": {
          "bdata": "AAAAAAAAAADIuMSBAOMDQMi4xIEA4wNA46Ch0yvMAEA=",
          "dtype": "f8"
         },
         "yaxis": "y"
        },
        {
         "hoverinfo": "text",
         "marker": {
          "color": "rgb(61,153,112)"
         },
         "mode": "lines",
         "type": "scatter",
         "x": {
          "bdata": "AAAAAACAQUAAAAAAAIBBQAAAAAAAgEZAAAAAAACARkA=",
          "dtype": "f8"
         },
         "xaxis": "x",
         "y": {
          "bdata": "AAAAAAAAAACWP2pbw78AQJY/alvDvwBAAAAAAAAAAAA=",
          "dtype": "f8"
         },
         "yaxis": "y"
        },
        {
         "hoverinfo": "text",
         "marker": {
          "color": "rgb(61,153,112)"
         },
         "mode": "lines",
         "type": "scatter",
         "x": {
          "bdata": "AAAAAACAS0AAAAAAAIBLQAAAAAAAQFBAAAAAAABAUEA=",
          "dtype": "f8"
         },
         "xaxis": "x",
         "y": {
          "bdata": "AAAAAAAAAAACsXVu1lYFQAKxdW7WVgVAAAAAAAAAAAA=",
          "dtype": "f8"
         },
         "yaxis": "y"
        },
        {
         "hoverinfo": "text",
         "marker": {
          "color": "rgb(61,153,112)"
         },
         "mode": "lines",
         "type": "scatter",
         "x": {
          "bdata": "AAAAAAAAREAAAAAAAABEQAAAAAAAAE5AAAAAAAAATkA=",
          "dtype": "f8"
         },
         "xaxis": "x",
         "y": {
          "bdata": "lj9qW8O/AECAVlPepFMNQIBWU96kUw1AArF1btZWBUA=",
          "dtype": "f8"
         },
         "yaxis": "y"
        },
        {
         "hoverinfo": "text",
         "marker": {
          "color": "rgb(61,153,112)"
         },
         "mode": "lines",
         "type": "scatter",
         "x": {
          "bdata": "AAAAAAAAKUAAAAAAAAApQAAAAAAAAElAAAAAAAAASUA=",
          "dtype": "f8"
         },
         "xaxis": "x",
         "y": {
          "bdata": "yLjEgQDjA0BdPh9F9G0QQF0+H0X0bRBAgFZT3qRTDUA=",
          "dtype": "f8"
         },
         "yaxis": "y"
        },
        {
         "hoverinfo": "text",
         "marker": {
          "color": "rgb(61,153,112)"
         },
         "mode": "lines",
         "type": "scatter",
         "x": {
          "bdata": "AAAAAABAVUAAAAAAAEBVQAAAAAAAwFdAAAAAAADAV0A=",
          "dtype": "f8"
         },
         "xaxis": "x",
         "y": {
          "bdata": "AAAAAAAAAAArkw8qMq0BQCuTDyoyrQFAAAAAAAAAAAA=",
          "dtype": "f8"
         },
         "yaxis": "y"
        },
        {
         "hoverinfo": "text",
         "marker": {
          "color": "rgb(61,153,112)"
         },
         "mode": "lines",
         "type": "scatter",
         "x": {
          "bdata": "AAAAAABAWkAAAAAAAEBaQAAAAAAAwFxAAAAAAADAXEA=",
          "dtype": "f8"
         },
         "xaxis": "x",
         "y": {
          "bdata": "AAAAAAAAAACrpF5qynkCQKukXmrKeQJAAAAAAAAAAAA=",
          "dtype": "f8"
         },
         "yaxis": "y"
        },
        {
         "hoverinfo": "text",
         "marker": {
          "color": "rgb(61,153,112)"
         },
         "mode": "lines",
         "type": "scatter",
         "x": {
          "bdata": "AAAAAACAVkAAAAAAAIBWQAAAAAAAgFtAAAAAAACAW0A=",
          "dtype": "f8"
         },
         "xaxis": "x",
         "y": {
          "bdata": "K5MPKjKtAUBGPzr6u6YHQEY/Ovq7pgdAq6Reasp5AkA=",
          "dtype": "f8"
         },
         "yaxis": "y"
        },
        {
         "hoverinfo": "text",
         "marker": {
          "color": "rgb(61,153,112)"
         },
         "mode": "lines",
         "type": "scatter",
         "x": {
          "bdata": "AAAAAADAUkAAAAAAAMBSQAAAAAAAAFlAAAAAAAAAWUA=",
          "dtype": "f8"
         },
         "xaxis": "x",
         "y": {
          "bdata": "AAAAAAAAAADSq0FMZ6oQQNKrQUxnqhBARj86+rumB0A=",
          "dtype": "f8"
         },
         "yaxis": "y"
        },
        {
         "hoverinfo": "text",
         "marker": {
          "color": "rgb(61,153,112)"
         },
         "mode": "lines",
         "type": "scatter",
         "x": {
          "bdata": "AAAAAABAP0AAAAAAAEA/QAAAAAAA4FVAAAAAAADgVUA=",
          "dtype": "f8"
         },
         "xaxis": "x",
         "y": {
          "bdata": "XT4fRfRtEEAcKeEqkY8XQBwp4SqRjxdA0qtBTGeqEEA=",
          "dtype": "f8"
         },
         "yaxis": "y"
        },
        {
         "hoverinfo": "text",
         "marker": {
          "color": "rgb(255,65,54)"
         },
         "mode": "lines",
         "type": "scatter",
         "x": {
          "bdata": "AAAAAABAX0AAAAAAAEBfQAAAAAAA4GBAAAAAAADgYEA=",
          "dtype": "f8"
         },
         "xaxis": "x",
         "y": {
          "bdata": "AAAAAAAAAAA4YwwDohQDQDhjDAOiFANAAAAAAAAAAAA=",
          "dtype": "f8"
         },
         "yaxis": "y"
        },
        {
         "hoverinfo": "text",
         "marker": {
          "color": "rgb(255,65,54)"
         },
         "mode": "lines",
         "type": "scatter",
         "x": {
          "bdata": "AAAAAAAgYkAAAAAAACBiQAAAAAAAYGNAAAAAAABgY0A=",
          "dtype": "f8"
         },
         "xaxis": "x",
         "y": {
          "bdata": "AAAAAAAAAADxTzlpLzD2P/FPOWkvMPY/AAAAAAAAAAA=",
          "dtype": "f8"
         },
         "yaxis": "y"
        },
        {
         "hoverinfo": "text",
         "marker": {
          "color": "rgb(255,65,54)"
         },
         "mode": "lines",
         "type": "scatter",
         "x": {
          "bdata": "AAAAAADgZUAAAAAAAOBlQAAAAAAAIGdAAAAAAAAgZ0A=",
          "dtype": "f8"
         },
         "xaxis": "x",
         "y": {
          "bdata": "AAAAAAAAAACFbhIScUv0P4VuEhJxS/Q/AAAAAAAAAAA=",
          "dtype": "f8"
         },
         "yaxis": "y"
        },
        {
         "hoverinfo": "text",
         "marker": {
          "color": "rgb(255,65,54)"
         },
         "mode": "lines",
         "type": "scatter",
         "x": {
          "bdata": "AAAAAACgZEAAAAAAAKBkQAAAAAAAgGZAAAAAAACAZkA=",
          "dtype": "f8"
         },
         "xaxis": "x",
         "y": {
          "bdata": "AAAAAAAAAABA/jWcv9j9P0D+NZy/2P0/hW4SEnFL9D8=",
          "dtype": "f8"
         },
         "yaxis": "y"
        },
        {
         "hoverinfo": "text",
         "marker": {
          "color": "rgb(255,65,54)"
         },
         "mode": "lines",
         "type": "scatter",
         "x": {
          "bdata": "AAAAAADAYkAAAAAAAMBiQAAAAAAAkGVAAAAAAACQZUA=",
          "dtype": "f8"
         },
         "xaxis": "x",
         "y": {
          "bdata": "8U85aS8w9j9nT7upVK0AQGdPu6lUrQBAQP41nL/Y/T8=",
          "dtype": "f8"
         },
         "yaxis": "y"
        },
        {
         "hoverinfo": "text",
         "marker": {
          "color": "rgb(255,65,54)"
         },
         "mode": "lines",
         "type": "scatter",
         "x": {
          "bdata": "AAAAAADgakAAAAAAAOBqQAAAAAAAIGxAAAAAAAAgbEA=",
          "dtype": "f8"
         },
         "xaxis": "x",
         "y": {
          "bdata": "AAAAAAAAAAAI+d3Okc31Pwj53c6RzfU/AAAAAAAAAAA=",
          "dtype": "f8"
         },
         "yaxis": "y"
        },
        {
         "hoverinfo": "text",
         "marker": {
          "color": "rgb(255,65,54)"
         },
         "mode": "lines",
         "type": "scatter",
         "x": {
          "bdata": "AAAAAACgaUAAAAAAAKBpQAAAAAAAgGtAAAAAAACAa0A=",
          "dtype": "f8"
         },
         "xaxis": "x",
         "y": {
          "bdata": "AAAAAAAAAADMfJOOAc/7P8x8k44Bz/s/CPndzpHN9T8=",
          "dtype": "f8"
         },
         "yaxis": "y"
        },
        {
         "hoverinfo": "text",
         "marker": {
          "color": "rgb(255,65,54)"
         },
         "mode": "lines",
         "type": "scatter",
         "x": {
          "bdata": "AAAAAABgaEAAAAAAAGBoQAAAAAAAkGpAAAAAAACQakA=",
          "dtype": "f8"
         },
         "xaxis": "x",
         "y": {
          "bdata": "AAAAAAAAAAC3P+/01qwDQLc/7/TWrANAzHyTjgHP+z8=",
          "dtype": "f8"
         },
         "yaxis": "y"
        },
        {
         "hoverinfo": "text",
         "marker": {
          "color": "rgb(255,65,54)"
         },
         "mode": "lines",
         "type": "scatter",
         "x": {
          "bdata": "AAAAAAAoZEAAAAAAAChkQAAAAAAAeGlAAAAAAAB4aUA=",
          "dtype": "f8"
         },
         "xaxis": "x",
         "y": {
          "bdata": "Z0+7qVStAECJXdaH300IQIld1offTQhAtz/v9NasA0A=",
          "dtype": "f8"
         },
         "yaxis": "y"
        },
        {
         "hoverinfo": "text",
         "marker": {
          "color": "rgb(255,65,54)"
         },
         "mode": "lines",
         "type": "scatter",
         "x": {
          "bdata": "AAAAAABAYEAAAAAAAEBgQAAAAAAA0GZAAAAAAADQZkA=",
          "dtype": "f8"
         },
         "xaxis": "x",
         "y": {
          "bdata": "OGMMA6IUA0Advz0m9CAKQB2/PSb0IApAiV3Wh99NCEA=",
          "dtype": "f8"
         },
         "yaxis": "y"
        },
        {
         "hoverinfo": "text",
         "marker": {
          "color": "rgb(255,65,54)"
         },
         "mode": "lines",
         "type": "scatter",
         "x": {
          "bdata": "AAAAAABgbUAAAAAAAGBtQAAAAAAAoG5AAAAAAACgbkA=",
          "dtype": "f8"
         },
         "xaxis": "x",
         "y": {
          "bdata": "AAAAAAAAAAAuD+kNPLr8Py4P6Q08uvw/AAAAAAAAAAA=",
          "dtype": "f8"
         },
         "yaxis": "y"
        },
        {
         "hoverinfo": "text",
         "marker": {
          "color": "rgb(255,65,54)"
         },
         "mode": "lines",
         "type": "scatter",
         "x": {
          "bdata": "AAAAAACQcEAAAAAAAJBwQAAAAAAAMHFAAAAAAAAwcUA=",
          "dtype": "f8"
         },
         "xaxis": "x",
         "y": {
          "bdata": "AAAAAAAAAAAHEy10UNj1PwcTLXRQ2PU/AAAAAAAAAAA=",
          "dtype": "f8"
         },
         "yaxis": "y"
        },
        {
         "hoverinfo": "text",
         "marker": {
          "color": "rgb(255,65,54)"
         },
         "mode": "lines",
         "type": "scatter",
         "x": {
          "bdata": "AAAAAADgb0AAAAAAAOBvQAAAAAAA4HBAAAAAAADgcEA=",
          "dtype": "f8"
         },
         "xaxis": "x",
         "y": {
          "bdata": "AAAAAAAAAABvnBX4JiQCQG+cFfgmJAJABxMtdFDY9T8=",
          "dtype": "f8"
         },
         "yaxis": "y"
        },
        {
         "hoverinfo": "text",
         "marker": {
          "color": "rgb(255,65,54)"
         },
         "mode": "lines",
         "type": "scatter",
         "x": {
          "bdata": "AAAAAAAAbkAAAAAAAABuQAAAAAAAaHBAAAAAAABocEA=",
          "dtype": "f8"
         },
         "xaxis": "x",
         "y": {
          "bdata": "Lg/pDTy6/D+y/VC4JdQKQLL9ULgl1ApAb5wV+CYkAkA=",
          "dtype": "f8"
         },
         "yaxis": "y"
        },
        {
         "hoverinfo": "text",
         "marker": {
          "color": "rgb(255,65,54)"
         },
         "mode": "lines",
         "type": "scatter",
         "x": {
          "bdata": "AAAAAACIY0AAAAAAAIhjQAAAAAAAaG9AAAAAAABob0A=",
          "dtype": "f8"
         },
         "xaxis": "x",
         "y": {
          "bdata": "Hb89JvQgCkAQX2ifqLkPQBBfaJ+ouQ9Asv1QuCXUCkA=",
          "dtype": "f8"
         },
         "yaxis": "y"
        },
        {
         "hoverinfo": "text",
         "marker": {
          "color": "rgb(255,65,54)"
         },
         "mode": "lines",
         "type": "scatter",
         "x": {
          "bdata": "AAAAAADQcUAAAAAAANBxQAAAAAAAcHJAAAAAAABwckA=",
          "dtype": "f8"
         },
         "xaxis": "x",
         "y": {
          "bdata": "AAAAAAAAAAB+XfP4ULsCQH5d8/hQuwJAAAAAAAAAAAA=",
          "dtype": "f8"
         },
         "yaxis": "y"
        },
        {
         "hoverinfo": "text",
         "marker": {
          "color": "rgb(255,65,54)"
         },
         "mode": "lines",
         "type": "scatter",
         "x": {
          "bdata": "AAAAAAAQc0AAAAAAABBzQAAAAAAAsHNAAAAAAACwc0A=",
          "dtype": "f8"
         },
         "xaxis": "x",
         "y": {
          "bdata": "AAAAAAAAAABLCIvcNZv0P0sIi9w1m/Q/AAAAAAAAAAA=",
          "dtype": "f8"
         },
         "yaxis": "y"
        },
        {
         "hoverinfo": "text",
         "marker": {
          "color": "rgb(255,65,54)"
         },
         "mode": "lines",
         "type": "scatter",
         "x": {
          "bdata": "AAAAAABQdEAAAAAAAFB0QAAAAAAA8HRAAAAAAADwdEA=",
          "dtype": "f8"
         },
         "xaxis": "x",
         "y": {
          "bdata": "AAAAAAAAAAC2AKwS+4L1P7YArBL7gvU/AAAAAAAAAAA=",
          "dtype": "f8"
         },
         "yaxis": "y"
        },
        {
         "hoverinfo": "text",
         "marker": {
          "color": "rgb(255,65,54)"
         },
         "mode": "lines",
         "type": "scatter",
         "x": {
          "bdata": "AAAAAABgc0AAAAAAAGBzQAAAAAAAoHRAAAAAAACgdEA=",
          "dtype": "f8"
         },
         "xaxis": "x",
         "y": {
          "bdata": "SwiL3DWb9D8wmrEe+hP+PzCasR76E/4/tgCsEvuC9T8=",
          "dtype": "f8"
         },
         "yaxis": "y"
        },
        {
         "hoverinfo": "text",
         "marker": {
          "color": "rgb(255,65,54)"
         },
         "mode": "lines",
         "type": "scatter",
         "x": {
          "bdata": "AAAAAACQdUAAAAAAAJB1QAAAAAAAMHZAAAAAAAAwdkA=",
          "dtype": "f8"
         },
         "xaxis": "x",
         "y": {
          "bdata": "AAAAAAAAAABLJrSnNaDyP0smtKc1oPI/AAAAAAAAAAA=",
          "dtype": "f8"
         },
         "yaxis": "y"
        },
        {
         "hoverinfo": "text",
         "marker": {
          "color": "rgb(255,65,54)"
         },
         "mode": "lines",
         "type": "scatter",
         "x": {
          "bdata": "AAAAAADQdkAAAAAAANB2QAAAAAAAcHdAAAAAAABwd0A=",
          "dtype": "f8"
         },
         "xaxis": "x",
         "y": {
          "bdata": "AAAAAAAAAAC52ts77p/9P7na2zvun/0/AAAAAAAAAAA=",
          "dtype": "f8"
         },
         "yaxis": "y"
        },
        {
         "hoverinfo": "text",
         "marker": {
          "color": "rgb(255,65,54)"
         },
         "mode": "lines",
         "type": "scatter",
         "x": {
          "bdata": "AAAAAADgdUAAAAAAAOB1QAAAAAAAIHdAAAAAAAAgd0A=",
          "dtype": "f8"
         },
         "xaxis": "x",
         "y": {
          "bdata": "Sya0pzWg8j9Aj8h7ybf/P0CPyHvJt/8/udrbO+6f/T8=",
          "dtype": "f8"
         },
         "yaxis": "y"
        },
        {
         "hoverinfo": "text",
         "marker": {
          "color": "rgb(255,65,54)"
         },
         "mode": "lines",
         "type": "scatter",
         "x": {
          "bdata": "AAAAAAAAdEAAAAAAAAB0QAAAAAAAgHZAAAAAAACAdkA=",
          "dtype": "f8"
         },
         "xaxis": "x",
         "y": {
          "bdata": "MJqxHvoT/j+CS8LVQwcGQIJLwtVDBwZAQI/Ie8m3/z8=",
          "dtype": "f8"
         },
         "yaxis": "y"
        },
        {
         "hoverinfo": "text",
         "marker": {
          "color": "rgb(255,65,54)"
         },
         "mode": "lines",
         "type": "scatter",
         "x": {
          "bdata": "AAAAAAAgckAAAAAAACByQAAAAAAAQHVAAAAAAABAdUA=",
          "dtype": "f8"
         },
         "xaxis": "x",
         "y": {
          "bdata": "fl3z+FC7AkA8MmKP/LYHQDwyYo/8tgdAgkvC1UMHBkA=",
          "dtype": "f8"
         },
         "yaxis": "y"
        },
        {
         "hoverinfo": "text",
         "marker": {
          "color": "rgb(255,65,54)"
         },
         "mode": "lines",
         "type": "scatter",
         "x": {
          "bdata": "AAAAAAAQeEAAAAAAABB4QAAAAAAAsHhAAAAAAACweEA=",
          "dtype": "f8"
         },
         "xaxis": "x",
         "y": {
          "bdata": "AAAAAAAAAAD/v1djMx79P/+/V2MzHv0/AAAAAAAAAAA=",
          "dtype": "f8"
         },
         "yaxis": "y"
        },
        {
         "hoverinfo": "text",
         "marker": {
          "color": "rgb(255,65,54)"
         },
         "mode": "lines",
         "type": "scatter",
         "x": {
          "bdata": "AAAAAABQeUAAAAAAAFB5QAAAAAAA8HlAAAAAAADweUA=",
          "dtype": "f8"
         },
         "xaxis": "x",
         "y": {
          "bdata": "AAAAAAAAAADadpyBl6ICQNp2nIGXogJAAAAAAAAAAAA=",
          "dtype": "f8"
         },
         "yaxis": "y"
        },
        {
         "hoverinfo": "text",
         "marker": {
          "color": "rgb(255,65,54)"
         },
         "mode": "lines",
         "type": "scatter",
         "x": {
          "bdata": "AAAAAABgeEAAAAAAAGB4QAAAAAAAoHlAAAAAAACgeUA=",
          "dtype": "f8"
         },
         "xaxis": "x",
         "y": {
          "bdata": "/79XYzMe/T9BG6HZuaYLQEEbodm5pgtA2nacgZeiAkA=",
          "dtype": "f8"
         },
         "yaxis": "y"
        },
        {
         "hoverinfo": "text",
         "marker": {
          "color": "rgb(255,65,54)"
         },
         "mode": "lines",
         "type": "scatter",
         "x": {
          "bdata": "AAAAAACwc0AAAAAAALBzQAAAAAAAAHlAAAAAAAAAeUA=",
          "dtype": "f8"
         },
         "xaxis": "x",
         "y": {
          "bdata": "PDJij/y2B0AQVE5DxGwOQBBUTkPEbA5AQRuh2bmmC0A=",
          "dtype": "f8"
         },
         "yaxis": "y"
        },
        {
         "hoverinfo": "text",
         "marker": {
          "color": "rgb(255,65,54)"
         },
         "mode": "lines",
         "type": "scatter",
         "x": {
          "bdata": "AAAAAACQekAAAAAAAJB6QAAAAAAAMHtAAAAAAAAwe0A=",
          "dtype": "f8"
         },
         "xaxis": "x",
         "y": {
          "bdata": "AAAAAAAAAAD8U23nMb4BQPxTbecxvgFAAAAAAAAAAAA=",
          "dtype": "f8"
         },
         "yaxis": "y"
        },
        {
         "hoverinfo": "text",
         "marker": {
          "color": "rgb(255,65,54)"
         },
         "mode": "lines",
         "type": "scatter",
         "x": {
          "bdata": "AAAAAADQe0AAAAAAANB7QAAAAAAAcHxAAAAAAABwfEA=",
          "dtype": "f8"
         },
         "xaxis": "x",
         "y": {
          "bdata": "AAAAAAAAAAD+lLyLNzb4P/6UvIs3Nvg/AAAAAAAAAAA=",
          "dtype": "f8"
         },
         "yaxis": "y"
        },
        {
         "hoverinfo": "text",
         "marker": {
          "color": "rgb(255,65,54)"
         },
         "mode": "lines",
         "type": "scatter",
         "x": {
          "bdata": "AAAAAACwfUAAAAAAALB9QAAAAAAAUH5AAAAAAABQfkA=",
          "dtype": "f8"
         },
         "xaxis": "x",
         "y": {
          "bdata": "AAAAAAAAAAA4Y/xws0v5Pzhj/HCzS/k/AAAAAAAAAAA=",
          "dtype": "f8"
         },
         "yaxis": "y"
        },
        {
         "hoverinfo": "text",
         "marker": {
          "color": "rgb(255,65,54)"
         },
         "mode": "lines",
         "type": "scatter",
         "x": {
          "bdata": "AAAAAAAQfUAAAAAAABB9QAAAAAAAAH5AAAAAAAAAfkA=",
          "dtype": "f8"
         },
         "xaxis": "x",
         "y": {
          "bdata": "AAAAAAAAAADfS1/MmtX+P99LX8ya1f4/OGP8cLNL+T8=",
          "dtype": "f8"
         },
         "yaxis": "y"
        },
        {
         "hoverinfo": "text",
         "marker": {
          "color": "rgb(255,65,54)"
         },
         "mode": "lines",
         "type": "scatter",
         "x": {
          "bdata": "AAAAAAAgfEAAAAAAACB8QAAAAAAAiH1AAAAAAACIfUA=",
          "dtype": "f8"
         },
         "xaxis": "x",
         "y": {
          "bdata": "/pS8izc2+D9v3h64bWkCQG/eHrhtaQJA30tfzJrV/j8=",
          "dtype": "f8"
         },
         "yaxis": "y"
        },
        {
         "hoverinfo": "text",
         "marker": {
          "color": "rgb(255,65,54)"
         },
         "mode": "lines",
         "type": "scatter",
         "x": {
          "bdata": "AAAAAADwfkAAAAAAAPB+QAAAAAAAkH9AAAAAAACQf0A=",
          "dtype": "f8"
         },
         "xaxis": "x",
         "y": {
          "bdata": "AAAAAAAAAAAFKc097m77PwUpzT3ubvs/AAAAAAAAAAA=",
          "dtype": "f8"
         },
         "yaxis": "y"
        },
        {
         "hoverinfo": "text",
         "marker": {
          "color": "rgb(255,65,54)"
         },
         "mode": "lines",
         "type": "scatter",
         "x": {
          "bdata": "AAAAAAAYgEAAAAAAABiAQAAAAAAAaIBAAAAAAABogEA=",
          "dtype": "f8"
         },
         "xaxis": "x",
         "y": {
          "bdata": "AAAAAAAAAACBqPrLFyD+P4Go+ssXIP4/AAAAAAAAAAA=",
          "dtype": "f8"
         },
         "yaxis": "y"
        },
        {
         "hoverinfo": "text",
         "marker": {
          "color": "rgb(255,65,54)"
         },
         "mode": "lines",
         "type": "scatter",
         "x": {
          "bdata": "AAAAAABAf0AAAAAAAEB/QAAAAAAAQIBAAAAAAABAgEA=",
          "dtype": "f8"
         },
         "xaxis": "x",
         "y": {
          "bdata": "BSnNPe5u+z9EQ3vT/6ADQERDe9P/oANAgaj6yxcg/j8=",
          "dtype": "f8"
         },
         "yaxis": "y"
        },
        {
         "hoverinfo": "text",
         "marker": {
          "color": "rgb(255,65,54)"
         },
         "mode": "lines",
         "type": "scatter",
         "x": {
          "bdata": "AAAAAADUfEAAAAAAANR8QAAAAAAA4H9AAAAAAADgf0A=",
          "dtype": "f8"
         },
         "xaxis": "x",
         "y": {
          "bdata": "b94euG1pAkCaCRHiNgwLQJoJEeI2DAtAREN70/+gA0A=",
          "dtype": "f8"
         },
         "yaxis": "y"
        },
        {
         "hoverinfo": "text",
         "marker": {
          "color": "rgb(255,65,54)"
         },
         "mode": "lines",
         "type": "scatter",
         "x": {
          "bdata": "AAAAAABYgUAAAAAAAFiBQAAAAAAAqIFAAAAAAACogUA=",
          "dtype": "f8"
         },
         "xaxis": "x",
         "y": {
          "bdata": "AAAAAAAAAAAYTp2CcRz8PxhOnYJxHPw/AAAAAAAAAAA=",
          "dtype": "f8"
         },
         "yaxis": "y"
        },
        {
         "hoverinfo": "text",
         "marker": {
          "color": "rgb(255,65,54)"
         },
         "mode": "lines",
         "type": "scatter",
         "x": {
          "bdata": "AAAAAAAIgUAAAAAAAAiBQAAAAAAAgIFAAAAAAACAgUA=",
          "dtype": "f8"
         },
         "xaxis": "x",
         "y": {
          "bdata": "AAAAAAAAAADVGFmIYzUAQNUYWYhjNQBAGE6dgnEc/D8=",
          "dtype": "f8"
         },
         "yaxis": "y"
        },
        {
         "hoverinfo": "text",
         "marker": {
          "color": "rgb(255,65,54)"
         },
         "mode": "lines",
         "type": "scatter",
         "x": {
          "bdata": "AAAAAAC4gEAAAAAAALiAQAAAAAAARIFAAAAAAABEgUA=",
          "dtype": "f8"
         },
         "xaxis": "x",
         "y": {
          "bdata": "AAAAAAAAAADaSdY4uO4AQNpJ1ji47gBA1RhZiGM1AEA=",
          "dtype": "f8"
         },
         "yaxis": "y"
        },
        {
         "hoverinfo": "text",
         "marker": {
          "color": "rgb(255,65,54)"
         },
         "mode": "lines",
         "type": "scatter",
         "x": {
          "bdata": "AAAAAABIgkAAAAAAAEiCQAAAAAAAmIJAAAAAAACYgkA=",
          "dtype": "f8"
         },
         "xaxis": "x",
         "y": {
          "bdata": "AAAAAAAAAAAWoyU55F71PxajJTnkXvU/AAAAAAAAAAA=",
          "dtype": "f8"
         },
         "yaxis": "y"
        },
        {
         "hoverinfo": "text",
         "marker": {
          "color": "rgb(255,65,54)"
         },
         "mode": "lines",
         "type": "scatter",
         "x": {
          "bdata": "AAAAAAD4gUAAAAAAAPiBQAAAAAAAcIJAAAAAAABwgkA=",
          "dtype": "f8"
         },
         "xaxis": "x",
         "y": {
          "bdata": "AAAAAAAAAADX4UenGDr9P9fhR6cYOv0/FqMlOeRe9T8=",
          "dtype": "f8"
         },
         "yaxis": "y"
        },
        {
         "hoverinfo": "text",
         "marker": {
          "color": "rgb(255,65,54)"
         },
         "mode": "lines",
         "type": "scatter",
         "x": {
          "bdata": "AAAAAAA4g0AAAAAAADiDQAAAAAAAiINAAAAAAACIg0A=",
          "dtype": "f8"
         },
         "xaxis": "x",
         "y": {
          "bdata": "AAAAAAAAAAA8J+ZehVnzPzwn5l6FWfM/AAAAAAAAAAA=",
          "dtype": "f8"
         },
         "yaxis": "y"
        },
        {
         "hoverinfo": "text",
         "marker": {
          "color": "rgb(255,65,54)"
         },
         "mode": "lines",
         "type": "scatter",
         "x": {
          "bdata": "AAAAAADogkAAAAAAAOiCQAAAAAAAYINAAAAAAABgg0A=",
          "dtype": "f8"
         },
         "xaxis": "x",
         "y": {
          "bdata": "AAAAAAAAAADkzsn3AVAAQOTOyfcBUABAPCfmXoVZ8z8=",
          "dtype": "f8"
         },
         "yaxis": "y"
        },
        {
         "hoverinfo": "text",
         "marker": {
          "color": "rgb(255,65,54)"
         },
         "mode": "lines",
         "type": "scatter",
         "x": {
          "bdata": "AAAAAAA0gkAAAAAAADSCQAAAAAAAJINAAAAAAAAkg0A=",
          "dtype": "f8"
         },
         "xaxis": "x",
         "y": {
          "bdata": "1+FHpxg6/T+x7nBTg90BQLHucFOD3QFA5M7J9wFQAEA=",
          "dtype": "f8"
         },
         "yaxis": "y"
        },
        {
         "hoverinfo": "text",
         "marker": {
          "color": "rgb(255,65,54)"
         },
         "mode": "lines",
         "type": "scatter",
         "x": {
          "bdata": "AAAAAAD+gEAAAAAAAP6AQAAAAAAArIJAAAAAAACsgkA=",
          "dtype": "f8"
         },
         "xaxis": "x",
         "y": {
          "bdata": "2knWOLjuAEDRZESNmX4LQNFkRI2ZfgtAse5wU4PdAUA=",
          "dtype": "f8"
         },
         "yaxis": "y"
        },
        {
         "hoverinfo": "text",
         "marker": {
          "color": "rgb(255,65,54)"
         },
         "mode": "lines",
         "type": "scatter",
         "x": {
          "bdata": "AAAAAABafkAAAAAAAFp+QAAAAAAA1YFAAAAAAADVgUA=",
          "dtype": "f8"
         },
         "xaxis": "x",
         "y": {
          "bdata": "mgkR4jYMC0BdXFRE3g0QQF1cVETeDRBA0WREjZl+C0A=",
          "dtype": "f8"
         },
         "yaxis": "y"
        },
        {
         "hoverinfo": "text",
         "marker": {
          "color": "rgb(255,65,54)"
         },
         "mode": "lines",
         "type": "scatter",
         "x": {
          "bdata": "AAAAAADgekAAAAAAAOB6QAAAAAAAgYBAAAAAAACBgEA=",
          "dtype": "f8"
         },
         "xaxis": "x",
         "y": {
          "bdata": "/FNt5zG+AUC1qmFLL4kRQLWqYUsviRFAXVxURN4NEEA=",
          "dtype": "f8"
         },
         "yaxis": "y"
        },
        {
         "hoverinfo": "text",
         "marker": {
          "color": "rgb(255,65,54)"
         },
         "mode": "lines",
         "type": "scatter",
         "x": {
          "bdata": "AAAAAABYdkAAAAAAAFh2QAAAAAAA8X1AAAAAAADxfUA=",
          "dtype": "f8"
         },
         "xaxis": "x",
         "y": {
          "bdata": "EFROQ8RsDkDZA76auxMUQNkDvpq7ExRAtaphSy+JEUA=",
          "dtype": "f8"
         },
         "yaxis": "y"
        },
        {
         "hoverinfo": "text",
         "marker": {
          "color": "rgb(255,65,54)"
         },
         "mode": "lines",
         "type": "scatter",
         "x": {
          "bdata": "AAAAAAB4aUAAAAAAAHhpQAAAAACAJHpAAAAAAIAkekA=",
          "dtype": "f8"
         },
         "xaxis": "x",
         "y": {
          "bdata": "EF9on6i5D0DD342e1TUVQMPfjZ7VNRVA2QO+mrsTFEA=",
          "dtype": "f8"
         },
         "yaxis": "y"
        },
        {
         "hoverinfo": "text",
         "marker": {
          "color": "rgb(255,65,54)"
         },
         "mode": "lines",
         "type": "scatter",
         "x": {
          "bdata": "AAAAAAAohEAAAAAAACiEQAAAAAAAeIRAAAAAAAB4hEA=",
          "dtype": "f8"
         },
         "xaxis": "x",
         "y": {
          "bdata": "AAAAAAAAAABJ+pKZPhMGQEn6kpk+EwZAAAAAAAAAAAA=",
          "dtype": "f8"
         },
         "yaxis": "y"
        },
        {
         "hoverinfo": "text",
         "marker": {
          "color": "rgb(255,65,54)"
         },
         "mode": "lines",
         "type": "scatter",
         "x": {
          "bdata": "AAAAAADYg0AAAAAAANiDQAAAAAAAUIRAAAAAAABQhEA=",
          "dtype": "f8"
         },
         "xaxis": "x",
         "y": {
          "bdata": "AAAAAAAAAAB0040UArIKQHTTjRQCsgpASfqSmT4TBkA=",
          "dtype": "f8"
         },
         "yaxis": "y"
        },
        {
         "hoverinfo": "text",
         "marker": {
          "color": "rgb(255,65,54)"
         },
         "mode": "lines",
         "type": "scatter",
         "x": {
          "bdata": "AAAAAAAYhUAAAAAAABiFQAAAAAAAaIVAAAAAAABohUA=",
          "dtype": "f8"
         },
         "xaxis": "x",
         "y": {
          "bdata": "AAAAAAAAAAAIXH2wsvsJQAhcfbCy+wlAAAAAAAAAAAA=",
          "dtype": "f8"
         },
         "yaxis": "y"
        },
        {
         "hoverinfo": "text",
         "marker": {
          "color": "rgb(255,65,54)"
         },
         "mode": "lines",
         "type": "scatter",
         "x": {
          "bdata": "AAAAAADIhEAAAAAAAMiEQAAAAAAAQIVAAAAAAABAhUA=",
          "dtype": "f8"
         },
         "xaxis": "x",
         "y": {
          "bdata": "AAAAAAAAAAD2wvGMB2gUQPbC8YwHaBRACFx9sLL7CUA=",
          "dtype": "f8"
         },
         "yaxis": "y"
        },
        {
         "hoverinfo": "text",
         "marker": {
          "color": "rgb(255,65,54)"
         },
         "mode": "lines",
         "type": "scatter",
         "x": {
          "bdata": "AAAAAAAUhEAAAAAAABSEQAAAAAAABIVAAAAAAAAEhUA=",
          "dtype": "f8"
         },
         "xaxis": "x",
         "y": {
          "bdata": "dNONFAKyCkBP7wNprAMcQE/vA2msAxxA9sLxjAdoFEA=",
          "dtype": "f8"
         },
         "yaxis": "y"
        },
        {
         "hoverinfo": "text",
         "marker": {
          "color": "rgb(255,65,54)"
         },
         "mode": "lines",
         "type": "scatter",
         "x": {
          "bdata": "AAAAAEBwc0AAAAAAQHBzQAAAAAAAjIRAAAAAAACMhEA=",
          "dtype": "f8"
         },
         "xaxis": "x",
         "y": {
          "bdata": "w9+NntU1FUBaUw2SvREeQFpTDZK9ER5AT+8DaawDHEA=",
          "dtype": "f8"
         },
         "yaxis": "y"
        },
        {
         "hoverinfo": "text",
         "marker": {
          "color": "rgb(0,116,217)"
         },
         "mode": "lines",
         "type": "scatter",
         "x": {
          "bdata": "AAAAAACwTUAAAAAAALBNQAAAAAAgRH5AAAAAACBEfkA=",
          "dtype": "f8"
         },
         "xaxis": "x",
         "y": {
          "bdata": "HCnhKpGPF0Cup/8y0NwhQK6n/zLQ3CFAWlMNkr0RHkA=",
          "dtype": "f8"
         },
         "yaxis": "y"
        },
        {
         "hoverinfo": "text",
         "marker": {
          "color": "rgb(35,205,205)"
         },
         "mode": "lines",
         "type": "scatter",
         "x": {
          "bdata": "AAAAAAC4hUAAAAAAALiFQAAAAAAACIZAAAAAAAAIhkA=",
          "dtype": "f8"
         },
         "xaxis": "x",
         "y": {
          "bdata": "AAAAAAAAAAAUTlabHIv8PxROVpsci/w/AAAAAAAAAAA=",
          "dtype": "f8"
         },
         "yaxis": "y"
        },
        {
         "hoverinfo": "text",
         "marker": {
          "color": "rgb(35,205,205)"
         },
         "mode": "lines",
         "type": "scatter",
         "x": {
          "bdata": "AAAAAABIh0AAAAAAAEiHQAAAAAAAmIdAAAAAAACYh0A=",
          "dtype": "f8"
         },
         "xaxis": "x",
         "y": {
          "bdata": "AAAAAAAAAAAWSyGpzRDzPxZLIanNEPM/AAAAAAAAAAA=",
          "dtype": "f8"
         },
         "yaxis": "y"
        },
        {
         "hoverinfo": "text",
         "marker": {
          "color": "rgb(35,205,205)"
         },
         "mode": "lines",
         "type": "scatter",
         "x": {
          "bdata": "AAAAAAD4hkAAAAAAAPiGQAAAAAAAcIdAAAAAAABwh0A=",
          "dtype": "f8"
         },
         "xaxis": "x",
         "y": {
          "bdata": "AAAAAAAAAADV+khiBff/P9X6SGIF9/8/Fkshqc0Q8z8=",
          "dtype": "f8"
         },
         "yaxis": "y"
        },
        {
         "hoverinfo": "text",
         "marker": {
          "color": "rgb(35,205,205)"
         },
         "mode": "lines",
         "type": "scatter",
         "x": {
          "bdata": "AAAAAACohkAAAAAAAKiGQAAAAAAANIdAAAAAAAA0h0A=",
          "dtype": "f8"
         },
         "xaxis": "x",
         "y": {
          "bdata": "AAAAAAAAAAApkr1mdQQHQCmSvWZ1BAdA1fpIYgX3/z8=",
          "dtype": "f8"
         },
         "yaxis": "y"
        },
        {
         "hoverinfo": "text",
         "marker": {
          "color": "rgb(35,205,205)"
         },
         "mode": "lines",
         "type": "scatter",
         "x": {
          "bdata": "AAAAAACIiEAAAAAAAIiIQAAAAAAA2IhAAAAAAADYiEA=",
          "dtype": "f8"
         },
         "xaxis": "x",
         "y": {
          "bdata": "AAAAAAAAAABAPUflDS77P0A9R+UNLvs/AAAAAAAAAAA=",
          "dtype": "f8"
         },
         "yaxis": "y"
        },
        {
         "hoverinfo": "text",
         "marker": {
          "color": "rgb(35,205,205)"
         },
         "mode": "lines",
         "type": "scatter",
         "x": {
          "bdata": "AAAAAAA4iEAAAAAAADiIQAAAAAAAsIhAAAAAAACwiEA=",
          "dtype": "f8"
         },
         "xaxis": "x",
         "y": {
          "bdata": "AAAAAAAAAACzftF0+oL/P7N+0XT6gv8/QD1H5Q0u+z8=",
          "dtype": "f8"
         },
         "yaxis": "y"
        },
        {
         "hoverinfo": "text",
         "marker": {
          "color": "rgb(35,205,205)"
         },
         "mode": "lines",
         "type": "scatter",
         "x": {
          "bdata": "AAAAAADoh0AAAAAAAOiHQAAAAAAAdIhAAAAAAAB0iEA=",
          "dtype": "f8"
         },
         "xaxis": "x",
         "y": {
          "bdata": "AAAAAAAAAABLOOXOl+oJQEs45c6X6glAs37RdPqC/z8=",
          "dtype": "f8"
         },
         "yaxis": "y"
        },
        {
         "hoverinfo": "text",
         "marker": {
          "color": "rgb(35,205,205)"
         },
         "mode": "lines",
         "type": "scatter",
         "x": {
          "bdata": "AAAAAADuhkAAAAAAAO6GQAAAAAAALohAAAAAAAAuiEA=",
          "dtype": "f8"
         },
         "xaxis": "x",
         "y": {
          "bdata": "KZK9ZnUEB0CUFKVFqjoOQJQUpUWqOg5ASzjlzpfqCUA=",
          "dtype": "f8"
         },
         "yaxis": "y"
        },
        {
         "hoverinfo": "text",
         "marker": {
          "color": "rgb(35,205,205)"
         },
         "mode": "lines",
         "type": "scatter",
         "x": {
          "bdata": "AAAAAABYhkAAAAAAAFiGQAAAAAAAjodAAAAAAACOh0A=",
          "dtype": "f8"
         },
         "xaxis": "x",
         "y": {
          "bdata": "AAAAAAAAAACH5jJje2MUQIfmMmN7YxRAlBSlRao6DkA=",
          "dtype": "f8"
         },
         "yaxis": "y"
        },
        {
         "hoverinfo": "text",
         "marker": {
          "color": "rgb(35,205,205)"
         },
         "mode": "lines",
         "type": "scatter",
         "x": {
          "bdata": "AAAAAAB4iUAAAAAAAHiJQAAAAAAAyIlAAAAAAADIiUA=",
          "dtype": "f8"
         },
         "xaxis": "x",
         "y": {
          "bdata": "AAAAAAAAAABgPCY1MDj9P2A8JjUwOP0/AAAAAAAAAAA=",
          "dtype": "f8"
         },
         "yaxis": "y"
        },
        {
         "hoverinfo": "text",
         "marker": {
          "color": "rgb(35,205,205)"
         },
         "mode": "lines",
         "type": "scatter",
         "x": {
          "bdata": "AAAAAAAoiUAAAAAAACiJQAAAAAAAoIlAAAAAAACgiUA=",
          "dtype": "f8"
         },
         "xaxis": "x",
         "y": {
          "bdata": "AAAAAAAAAADeSOywtB0HQN5I7LC0HQdAYDwmNTA4/T8=",
          "dtype": "f8"
         },
         "yaxis": "y"
        },
        {
         "hoverinfo": "text",
         "marker": {
          "color": "rgb(35,205,205)"
         },
         "mode": "lines",
         "type": "scatter",
         "x": {
          "bdata": "AAAAAAAYikAAAAAAABiKQAAAAAAAaIpAAAAAAABoikA=",
          "dtype": "f8"
         },
         "xaxis": "x",
         "y": {
          "bdata": "AAAAAAAAAABwpqkFU0X5P3CmqQVTRfk/AAAAAAAAAAA=",
          "dtype": "f8"
         },
         "yaxis": "y"
        },
        {
         "hoverinfo": "text",
         "marker": {
          "color": "rgb(35,205,205)"
         },
         "mode": "lines",
         "type": "scatter",
         "x": {
          "bdata": "AAAAAAC4ikAAAAAAALiKQAAAAAAACItAAAAAAAAIi0A=",
          "dtype": "f8"
         },
         "xaxis": "x",
         "y": {
          "bdata": "AAAAAAAAAAAID/Bg+o35PwgP8GD6jfk/AAAAAAAAAAA=",
          "dtype": "f8"
         },
         "yaxis": "y"
        },
        {
         "hoverinfo": "text",
         "marker": {
          "color": "rgb(35,205,205)"
         },
         "mode": "lines",
         "type": "scatter",
         "x": {
          "bdata": "AAAAAABAikAAAAAAAECKQAAAAAAA4IpAAAAAAADgikA=",
          "dtype": "f8"
         },
         "xaxis": "x",
         "y": {
          "bdata": "cKapBVNF+T+gRx/NMZQEQKBHH80xlARACA/wYPqN+T8=",
          "dtype": "f8"
         },
         "yaxis": "y"
        },
        {
         "hoverinfo": "text",
         "marker": {
          "color": "rgb(35,205,205)"
         },
         "mode": "lines",
         "type": "scatter",
         "x": {
          "bdata": "AAAAAABYi0AAAAAAAFiLQAAAAAAAqItAAAAAAACoi0A=",
          "dtype": "f8"
         },
         "xaxis": "x",
         "y": {
          "bdata": "AAAAAAAAAAAb8mDVM+T/PxvyYNUz5P8/AAAAAAAAAAA=",
          "dtype": "f8"
         },
         "yaxis": "y"
        },
        {
         "hoverinfo": "text",
         "marker": {
          "color": "rgb(35,205,205)"
         },
         "mode": "lines",
         "type": "scatter",
         "x": {
          "bdata": "AAAAAAD4i0AAAAAAAPiLQAAAAAAASIxAAAAAAABIjEA=",
          "dtype": "f8"
         },
         "xaxis": "x",
         "y": {
          "bdata": "AAAAAAAAAAD8eJ8WyM70P/x4nxbIzvQ/AAAAAAAAAAA=",
          "dtype": "f8"
         },
         "yaxis": "y"
        },
        {
         "hoverinfo": "text",
         "marker": {
          "color": "rgb(35,205,205)"
         },
         "mode": "lines",
         "type": "scatter",
         "x": {
          "bdata": "AAAAAACYjEAAAAAAAJiMQAAAAAAA6IxAAAAAAADojEA=",
          "dtype": "f8"
         },
         "xaxis": "x",
         "y": {
          "bdata": "AAAAAAAAAACP85dXglP3P4/zl1eCU/c/AAAAAAAAAAA=",
          "dtype": "f8"
         },
         "yaxis": "y"
        },
        {
         "hoverinfo": "text",
         "marker": {
          "color": "rgb(35,205,205)"
         },
         "mode": "lines",
         "type": "scatter",
         "x": {
          "bdata": "AAAAAAAgjEAAAAAAACCMQAAAAAAAwIxAAAAAAADAjEA=",
          "dtype": "f8"
         },
         "xaxis": "x",
         "y": {
          "bdata": "/HifFsjO9D+aDR3n1XgCQJoNHefVeAJAj/OXV4JT9z8=",
          "dtype": "f8"
         },
         "yaxis": "y"
        },
        {
         "hoverinfo": "text",
         "marker": {
          "color": "rgb(35,205,205)"
         },
         "mode": "lines",
         "type": "scatter",
         "x": {
          "bdata": "AAAAAACAi0AAAAAAAICLQAAAAAAAcIxAAAAAAABwjEA=",
          "dtype": "f8"
         },
         "xaxis": "x",
         "y": {
          "bdata": "G/Jg1TPk/z8ng2Dw8LcGQCeDYPDwtwZAmg0d59V4AkA=",
          "dtype": "f8"
         },
         "yaxis": "y"
        },
        {
         "hoverinfo": "text",
         "marker": {
          "color": "rgb(35,205,205)"
         },
         "mode": "lines",
         "type": "scatter",
         "x": {
          "bdata": "AAAAAACQikAAAAAAAJCKQAAAAAAA+ItAAAAAAAD4i0A=",
          "dtype": "f8"
         },
         "xaxis": "x",
         "y": {
          "bdata": "oEcfzTGUBEAc3gj5LJgJQBzeCPksmAlAJ4Ng8PC3BkA=",
          "dtype": "f8"
         },
         "yaxis": "y"
        },
        {
         "hoverinfo": "text",
         "marker": {
          "color": "rgb(35,205,205)"
         },
         "mode": "lines",
         "type": "scatter",
         "x": {
          "bdata": "AAAAAABkiUAAAAAAAGSJQAAAAAAARItAAAAAAABEi0A=",
          "dtype": "f8"
         },
         "xaxis": "x",
         "y": {
          "bdata": "3kjssLQdB0AMdAalG2INQAx0BqUbYg1AHN4I+SyYCUA=",
          "dtype": "f8"
         },
         "yaxis": "y"
        },
        {
         "hoverinfo": "text",
         "marker": {
          "color": "rgb(35,205,205)"
         },
         "mode": "lines",
         "type": "scatter",
         "x": {
          "bdata": "AAAAAADYjUAAAAAAANiNQAAAAAAAKI5AAAAAAAAojkA=",
          "dtype": "f8"
         },
         "xaxis": "x",
         "y": {
          "bdata": "AAAAAAAAAACHvr0L0wj7P4e+vQvTCPs/AAAAAAAAAAA=",
          "dtype": "f8"
         },
         "yaxis": "y"
        },
        {
         "hoverinfo": "text",
         "marker": {
          "color": "rgb(35,205,205)"
         },
         "mode": "lines",
         "type": "scatter",
         "x": {
          "bdata": "AAAAAACIjUAAAAAAAIiNQAAAAAAAAI5AAAAAAAAAjkA=",
          "dtype": "f8"
         },
         "xaxis": "x",
         "y": {
          "bdata": "AAAAAAAAAACsSLZDm/IDQKxItkOb8gNAh769C9MI+z8=",
          "dtype": "f8"
         },
         "yaxis": "y"
        },
        {
         "hoverinfo": "text",
         "marker": {
          "color": "rgb(35,205,205)"
         },
         "mode": "lines",
         "type": "scatter",
         "x": {
          "bdata": "AAAAAAA4jUAAAAAAADiNQAAAAAAAxI1AAAAAAADEjUA=",
          "dtype": "f8"
         },
         "xaxis": "x",
         "y": {
          "bdata": "AAAAAAAAAADdy0z9xnQHQN3LTP3GdAdArEi2Q5vyA0A=",
          "dtype": "f8"
         },
         "yaxis": "y"
        },
        {
         "hoverinfo": "text",
         "marker": {
          "color": "rgb(35,205,205)"
         },
         "mode": "lines",
         "type": "scatter",
         "x": {
          "bdata": "AAAAAADIjkAAAAAAAMiOQAAAAAAAGI9AAAAAAAAYj0A=",
          "dtype": "f8"
         },
         "xaxis": "x",
         "y": {
          "bdata": "AAAAAAAAAADphUml4OD1P+mFSaXg4PU/AAAAAAAAAAA=",
          "dtype": "f8"
         },
         "yaxis": "y"
        },
        {
         "hoverinfo": "text",
         "marker": {
          "color": "rgb(35,205,205)"
         },
         "mode": "lines",
         "type": "scatter",
         "x": {
          "bdata": "AAAAAABoj0AAAAAAAGiPQAAAAAAAuI9AAAAAAAC4j0A=",
          "dtype": "f8"
         },
         "xaxis": "x",
         "y": {
          "bdata": "AAAAAAAAAACj1nvjzsj3P6PWe+POyPc/AAAAAAAAAAA=",
          "dtype": "f8"
         },
         "yaxis": "y"
        },
        {
         "hoverinfo": "text",
         "marker": {
          "color": "rgb(35,205,205)"
         },
         "mode": "lines",
         "type": "scatter",
         "x": {
          "bdata": "AAAAAADwjkAAAAAAAPCOQAAAAAAAkI9AAAAAAACQj0A=",
          "dtype": "f8"
         },
         "xaxis": "x",
         "y": {
          "bdata": "6YVJpeDg9T8IGhLyag/8PwgaEvJqD/w/o9Z7487I9z8=",
          "dtype": "f8"
         },
         "yaxis": "y"
        },
        {
         "hoverinfo": "text",
         "marker": {
          "color": "rgb(35,205,205)"
         },
         "mode": "lines",
         "type": "scatter",
         "x": {
          "bdata": "AAAAAAB4jkAAAAAAAHiOQAAAAAAAQI9AAAAAAABAj0A=",
          "dtype": "f8"
         },
         "xaxis": "x",
         "y": {
          "bdata": "AAAAAAAAAAB8ugAXtzQAQHy6ABe3NABACBoS8moP/D8=",
          "dtype": "f8"
         },
         "yaxis": "y"
        },
        {
         "hoverinfo": "text",
         "marker": {
          "color": "rgb(35,205,205)"
         },
         "mode": "lines",
         "type": "scatter",
         "x": {
          "bdata": "AAAAAABUkEAAAAAAAFSQQAAAAAAAfJBAAAAAAAB8kEA=",
          "dtype": "f8"
         },
         "xaxis": "x",
         "y": {
          "bdata": "AAAAAAAAAAAO6qrYqOL4Pw7qqtio4vg/AAAAAAAAAAA=",
          "dtype": "f8"
         },
         "yaxis": "y"
        },
        {
         "hoverinfo": "text",
         "marker": {
          "color": "rgb(35,205,205)"
         },
         "mode": "lines",
         "type": "scatter",
         "x": {
          "bdata": "AAAAAAAskEAAAAAAACyQQAAAAAAAaJBAAAAAAABokEA=",
          "dtype": "f8"
         },
         "xaxis": "x",
         "y": {
          "bdata": "AAAAAAAAAACtAEc8cEcAQK0ARzxwRwBADuqq2Kji+D8=",
          "dtype": "f8"
         },
         "yaxis": "y"
        },
        {
         "hoverinfo": "text",
         "marker": {
          "color": "rgb(35,205,205)"
         },
         "mode": "lines",
         "type": "scatter",
         "x": {
          "bdata": "AAAAAAAEkEAAAAAAAASQQAAAAAAASpBAAAAAAABKkEA=",
          "dtype": "f8"
         },
         "xaxis": "x",
         "y": {
          "bdata": "AAAAAAAAAAAn5dC6AScDQCfl0LoBJwNArQBHPHBHAEA=",
          "dtype": "f8"
         },
         "yaxis": "y"
        },
        {
         "hoverinfo": "text",
         "marker": {
          "color": "rgb(35,205,205)"
         },
         "mode": "lines",
         "type": "scatter",
         "x": {
          "bdata": "AAAAAADcjkAAAAAAANyOQAAAAAAAJ5BAAAAAAAAnkEA=",
          "dtype": "f8"
         },
         "xaxis": "x",
         "y": {
          "bdata": "fLoAF7c0AEAvFRFnwf0IQC8VEWfB/QhAJ+XQugEnA0A=",
          "dtype": "f8"
         },
         "yaxis": "y"
        },
        {
         "hoverinfo": "text",
         "marker": {
          "color": "rgb(35,205,205)"
         },
         "mode": "lines",
         "type": "scatter",
         "x": {
          "bdata": "AAAAAADMkEAAAAAAAMyQQAAAAAAA9JBAAAAAAAD0kEA=",
          "dtype": "f8"
         },
         "xaxis": "x",
         "y": {
          "bdata": "AAAAAAAAAACIfgQsw1v5P4h+BCzDW/k/AAAAAAAAAAA=",
          "dtype": "f8"
         },
         "yaxis": "y"
        },
        {
         "hoverinfo": "text",
         "marker": {
          "color": "rgb(35,205,205)"
         },
         "mode": "lines",
         "type": "scatter",
         "x": {
          "bdata": "AAAAAAAckUAAAAAAAByRQAAAAAAARJFAAAAAAABEkUA=",
          "dtype": "f8"
         },
         "xaxis": "x",
         "y": {
          "bdata": "AAAAAAAAAABJdayOYMUBQEl1rI5gxQFAAAAAAAAAAAA=",
          "dtype": "f8"
         },
         "yaxis": "y"
        },
        {
         "hoverinfo": "text",
         "marker": {
          "color": "rgb(35,205,205)"
         },
         "mode": "lines",
         "type": "scatter",
         "x": {
          "bdata": "AAAAAADgkEAAAAAAAOCQQAAAAAAAMJFAAAAAAAAwkUA=",
          "dtype": "f8"
         },
         "xaxis": "x",
         "y": {
          "bdata": "iH4ELMNb+T9L8pleZicHQEvymV5mJwdASXWsjmDFAUA=",
          "dtype": "f8"
         },
         "yaxis": "y"
        },
        {
         "hoverinfo": "text",
         "marker": {
          "color": "rgb(35,205,205)"
         },
         "mode": "lines",
         "type": "scatter",
         "x": {
          "bdata": "AAAAAACkkEAAAAAAAKSQQAAAAAAACJFAAAAAAAAIkUA=",
          "dtype": "f8"
         },
         "xaxis": "x",
         "y": {
          "bdata": "AAAAAAAAAADayo4XdU4NQNrKjhd1Tg1AS/KZXmYnB0A=",
          "dtype": "f8"
         },
         "yaxis": "y"
        },
        {
         "hoverinfo": "text",
         "marker": {
          "color": "rgb(35,205,205)"
         },
         "mode": "lines",
         "type": "scatter",
         "x": {
          "bdata": "AAAAAACVj0AAAAAAAJWPQAAAAAAA1pBAAAAAAADWkEA=",
          "dtype": "f8"
         },
         "xaxis": "x",
         "y": {
          "bdata": "LxURZ8H9CEDBkVVYRVsQQMGRVVhFWxBA2sqOF3VODUA=",
          "dtype": "f8"
         },
         "yaxis": "y"
        },
        {
         "hoverinfo": "text",
         "marker": {
          "color": "rgb(35,205,205)"
         },
         "mode": "lines",
         "type": "scatter",
         "x": {
          "bdata": "AAAAAAB+jUAAAAAAAH6NQAAAAABAUJBAAAAAAEBQkEA=",
          "dtype": "f8"
         },
         "xaxis": "x",
         "y": {
          "bdata": "3ctM/cZ0B0AZuaIfGHESQBm5oh8YcRJAwZFVWEVbEEA=",
          "dtype": "f8"
         },
         "yaxis": "y"
        },
        {
         "hoverinfo": "text",
         "marker": {
          "color": "rgb(35,205,205)"
         },
         "mode": "lines",
         "type": "scatter",
         "x": {
          "bdata": "AAAAAABUikAAAAAAAFSKQAAAAABAD49AAAAAAEAPj0A=",
          "dtype": "f8"
         },
         "xaxis": "x",
         "y": {
          "bdata": "DHQGpRtiDUDRyifjx6YSQNHKJ+PHphJAGbmiHxhxEkA=",
          "dtype": "f8"
         },
         "yaxis": "y"
        },
        {
         "hoverinfo": "text",
         "marker": {
          "color": "rgb(35,205,205)"
         },
         "mode": "lines",
         "type": "scatter",
         "x": {
          "bdata": "AAAAAACUkUAAAAAAAJSRQAAAAAAAvJFAAAAAAAC8kUA=",
          "dtype": "f8"
         },
         "xaxis": "x",
         "y": {
          "bdata": "AAAAAAAAAACo1/xZdcX7P6jX/Fl1xfs/AAAAAAAAAAA=",
          "dtype": "f8"
         },
         "yaxis": "y"
        },
        {
         "hoverinfo": "text",
         "marker": {
          "color": "rgb(35,205,205)"
         },
         "mode": "lines",
         "type": "scatter",
         "x": {
          "bdata": "AAAAAABskUAAAAAAAGyRQAAAAAAAqJFAAAAAAACokUA=",
          "dtype": "f8"
         },
         "xaxis": "x",
         "y": {
          "bdata": "AAAAAAAAAAD2wWK6VNkBQPbBYrpU2QFAqNf8WXXF+z8=",
          "dtype": "f8"
         },
         "yaxis": "y"
        },
        {
         "hoverinfo": "text",
         "marker": {
          "color": "rgb(35,205,205)"
         },
         "mode": "lines",
         "type": "scatter",
         "x": {
          "bdata": "AAAAAACEkkAAAAAAAISSQAAAAAAArJJAAAAAAACskkA=",
          "dtype": "f8"
         },
         "xaxis": "x",
         "y": {
          "bdata": "AAAAAAAAAAD4Q5fpAB33P/hDl+kAHfc/AAAAAAAAAAA=",
          "dtype": "f8"
         },
         "yaxis": "y"
        },
        {
         "hoverinfo": "text",
         "marker": {
          "color": "rgb(35,205,205)"
         },
         "mode": "lines",
         "type": "scatter",
         "x": {
          "bdata": "AAAAAABckkAAAAAAAFySQAAAAAAAmJJAAAAAAACYkkA=",
          "dtype": "f8"
         },
         "xaxis": "x",
         "y": {
          "bdata": "AAAAAAAAAAByQSLBapkAQHJBIsFqmQBA+EOX6QAd9z8=",
          "dtype": "f8"
         },
         "yaxis": "y"
        },
        {
         "hoverinfo": "text",
         "marker": {
          "color": "rgb(35,205,205)"
         },
         "mode": "lines",
         "type": "scatter",
         "x": {
          "bdata": "AAAAAAA0kkAAAAAAADSSQAAAAAAAepJAAAAAAAB6kkA=",
          "dtype": "f8"
         },
         "xaxis": "x",
         "y": {
          "bdata": "AAAAAAAAAABQ7I6H72YDQFDsjofvZgNAckEiwWqZAEA=",
          "dtype": "f8"
         },
         "yaxis": "y"
        },
        {
         "hoverinfo": "text",
         "marker": {
          "color": "rgb(35,205,205)"
         },
         "mode": "lines",
         "type": "scatter",
         "x": {
          "bdata": "AAAAAAAMkkAAAAAAAAySQAAAAAAAV5JAAAAAAABXkkA=",
          "dtype": "f8"
         },
         "xaxis": "x",
         "y": {
          "bdata": "AAAAAAAAAACtQN0FJ1kIQK1A3QUnWQhAUOyOh+9mA0A=",
          "dtype": "f8"
         },
         "yaxis": "y"
        },
        {
         "hoverinfo": "text",
         "marker": {
          "color": "rgb(35,205,205)"
         },
         "mode": "lines",
         "type": "scatter",
         "x": {
          "bdata": "AAAAAADkkUAAAAAAAOSRQAAAAACAMZJAAAAAAIAxkkA=",
          "dtype": "f8"
         },
         "xaxis": "x",
         "y": {
          "bdata": "AAAAAAAAAAA8AcdvE08KQDwBx28TTwpArUDdBSdZCEA=",
          "dtype": "f8"
         },
         "yaxis": "y"
        },
        {
         "hoverinfo": "text",
         "marker": {
          "color": "rgb(35,205,205)"
         },
         "mode": "lines",
         "type": "scatter",
         "x": {
          "bdata": "AAAAAACKkUAAAAAAAIqRQAAAAADACpJAAAAAAMAKkkA=",
          "dtype": "f8"
         },
         "xaxis": "x",
         "y": {
          "bdata": "9sFiulTZAUDF6o+tgRQTQMXqj62BFBNAPAHHbxNPCkA=",
          "dtype": "f8"
         },
         "yaxis": "y"
        },
        {
         "hoverinfo": "text",
         "marker": {
          "color": "rgb(35,205,205)"
         },
         "mode": "lines",
         "type": "scatter",
         "x": {
          "bdata": "AAAAAKCxjEAAAAAAoLGMQAAAAABgypFAAAAAAGDKkUA=",
          "dtype": "f8"
         },
         "xaxis": "x",
         "y": {
          "bdata": "0con48emEkBB77O0ISAXQEHvs7QhIBdAxeqPrYEUE0A=",
          "dtype": "f8"
         },
         "yaxis": "y"
        },
        {
         "hoverinfo": "text",
         "marker": {
          "color": "rgb(35,205,205)"
         },
         "mode": "lines",
         "type": "scatter",
         "x": {
          "bdata": "AAAAAADzhkAAAAAAAPOGQAAAAACYEZBAAAAAAJgRkEA=",
          "dtype": "f8"
         },
         "xaxis": "x",
         "y": {
          "bdata": "h+YyY3tjFEDqik7MV/0aQOqKTsxX/RpAQe+ztCEgF0A=",
          "dtype": "f8"
         },
         "yaxis": "y"
        },
        {
         "hoverinfo": "text",
         "marker": {
          "color": "rgb(35,205,205)"
         },
         "mode": "lines",
         "type": "scatter",
         "x": {
          "bdata": "AAAAAADghUAAAAAAAOCFQAAAAAAYi4tAAAAAABiLi0A=",
          "dtype": "f8"
         },
         "xaxis": "x",
         "y": {
          "bdata": "FE5WmxyL/D/xvyVVyaUeQPG/JVXJpR5A6opOzFf9GkA=",
          "dtype": "f8"
         },
         "yaxis": "y"
        },
        {
         "hoverinfo": "text",
         "marker": {
          "color": "rgb(133,20,75)"
         },
         "mode": "lines",
         "type": "scatter",
         "x": {
          "bdata": "AAAAAABMk0AAAAAAAEyTQAAAAAAAdJNAAAAAAAB0k0A=",
          "dtype": "f8"
         },
         "xaxis": "x",
         "y": {
          "bdata": "AAAAAAAAAADTfGTasJvzP9N8ZNqwm/M/AAAAAAAAAAA=",
          "dtype": "f8"
         },
         "yaxis": "y"
        },
        {
         "hoverinfo": "text",
         "marker": {
          "color": "rgb(133,20,75)"
         },
         "mode": "lines",
         "type": "scatter",
         "x": {
          "bdata": "AAAAAACck0AAAAAAAJyTQAAAAAAAxJNAAAAAAADEk0A=",
          "dtype": "f8"
         },
         "xaxis": "x",
         "y": {
          "bdata": "AAAAAAAAAABF/P/eL6v0P0X8/94vq/Q/AAAAAAAAAAA=",
          "dtype": "f8"
         },
         "yaxis": "y"
        },
        {
         "hoverinfo": "text",
         "marker": {
          "color": "rgb(133,20,75)"
         },
         "mode": "lines",
         "type": "scatter",
         "x": {
          "bdata": "AAAAAABgk0AAAAAAAGCTQAAAAAAAsJNAAAAAAACwk0A=",
          "dtype": "f8"
         },
         "xaxis": "x",
         "y": {
          "bdata": "03xk2rCb8z8OIDXfE0//Pw4gNd8TT/8/Rfz/3i+r9D8=",
          "dtype": "f8"
         },
         "yaxis": "y"
        },
        {
         "hoverinfo": "text",
         "marker": {
          "color": "rgb(133,20,75)"
         },
         "mode": "lines",
         "type": "scatter",
         "x": {
          "bdata": "AAAAAAAkk0AAAAAAACSTQAAAAAAAiJNAAAAAAACIk0A=",
          "dtype": "f8"
         },
         "xaxis": "x",
         "y": {
          "bdata": "AAAAAAAAAADFH6L25JoDQMUfovbkmgNADiA13xNP/z8=",
          "dtype": "f8"
         },
         "yaxis": "y"
        },
        {
         "hoverinfo": "text",
         "marker": {
          "color": "rgb(133,20,75)"
         },
         "mode": "lines",
         "type": "scatter",
         "x": {
          "bdata": "AAAAAAAUlEAAAAAAABSUQAAAAAAAPJRAAAAAAAA8lEA=",
          "dtype": "f8"
         },
         "xaxis": "x",
         "y": {
          "bdata": "AAAAAAAAAAACtN/emLH+PwK0396Ysf4/AAAAAAAAAAA=",
          "dtype": "f8"
         },
         "yaxis": "y"
        },
        {
         "hoverinfo": "text",
         "marker": {
          "color": "rgb(133,20,75)"
         },
         "mode": "lines",
         "type": "scatter",
         "x": {
          "bdata": "AAAAAADsk0AAAAAAAOyTQAAAAAAAKJRAAAAAAAAolEA=",
          "dtype": "f8"
         },
         "xaxis": "x",
         "y": {
          "bdata": "AAAAAAAAAADEuR+nh2sIQMS5H6eHawhAArTf3pix/j8=",
          "dtype": "f8"
         },
         "yaxis": "y"
        },
        {
         "hoverinfo": "text",
         "marker": {
          "color": "rgb(133,20,75)"
         },
         "mode": "lines",
         "type": "scatter",
         "x": {
          "bdata": "AAAAAABWk0AAAAAAAFaTQAAAAAAACpRAAAAAAAAKlEA=",
          "dtype": "f8"
         },
         "xaxis": "x",
         "y": {
          "bdata": "xR+i9uSaA0BvojXEe0QRQG+iNcR7RBFAxLkfp4drCEA=",
          "dtype": "f8"
         },
         "yaxis": "y"
        },
        {
         "hoverinfo": "text",
         "marker": {
          "color": "rgb(133,20,75)"
         },
         "mode": "lines",
         "type": "scatter",
         "x": {
          "bdata": "AAAAAAD8kkAAAAAAAPySQAAAAAAAsJNAAAAAAACwk0A=",
          "dtype": "f8"
         },
         "xaxis": "x",
         "y": {
          "bdata": "AAAAAAAAAABM6eqsU14UQEzp6qxTXhRAb6I1xHtEEUA=",
          "dtype": "f8"
         },
         "yaxis": "y"
        },
        {
         "hoverinfo": "text",
         "marker": {
          "color": "rgb(133,20,75)"
         },
         "mode": "lines",
         "type": "scatter",
         "x": {
          "bdata": "AAAAAADUkkAAAAAAANSSQAAAAAAAVpNAAAAAAABWk0A=",
          "dtype": "f8"
         },
         "xaxis": "x",
         "y": {
          "bdata": "AAAAAAAAAAD4UqShpIcZQPhSpKGkhxlATOnqrFNeFEA=",
          "dtype": "f8"
         },
         "yaxis": "y"
        },
        {
         "hoverinfo": "text",
         "marker": {
          "color": "rgb(255,220,0)"
         },
         "mode": "lines",
         "type": "scatter",
         "x": {
          "bdata": "AAAAAABklEAAAAAAAGSUQAAAAAAAjJRAAAAAAACMlEA=",
          "dtype": "f8"
         },
         "xaxis": "x",
         "y": {
          "bdata": "AAAAAAAAAABLsGm3QUkKQEuwabdBSQpAAAAAAAAAAAA=",
          "dtype": "f8"
         },
         "yaxis": "y"
        },
        {
         "hoverinfo": "text",
         "marker": {
          "color": "rgb(255,220,0)"
         },
         "mode": "lines",
         "type": "scatter",
         "x": {
          "bdata": "AAAAAAC0lEAAAAAAALSUQAAAAAAA3JRAAAAAAADclEA=",
          "dtype": "f8"
         },
         "xaxis": "x",
         "y": {
          "bdata": "AAAAAAAAAAA8pWEHjIr3PzylYQeMivc/AAAAAAAAAAA=",
          "dtype": "f8"
         },
         "yaxis": "y"
        },
        {
         "hoverinfo": "text",
         "marker": {
          "color": "rgb(255,220,0)"
         },
         "mode": "lines",
         "type": "scatter",
         "x": {
          "bdata": "AAAAAAAslUAAAAAAACyVQAAAAAAAVJVAAAAAAABUlUA=",
          "dtype": "f8"
         },
         "xaxis": "x",
         "y": {
          "bdata": "AAAAAAAAAACO3H9zhgcAQI7cf3OGBwBAAAAAAAAAAAA=",
          "dtype": "f8"
         },
         "yaxis": "y"
        },
        {
         "hoverinfo": "text",
         "marker": {
          "color": "rgb(255,220,0)"
         },
         "mode": "lines",
         "type": "scatter",
         "x": {
          "bdata": "AAAAAAAElUAAAAAAAASVQAAAAAAAQJVAAAAAAABAlUA=",
          "dtype": "f8"
         },
         "xaxis": "x",
         "y": {
          "bdata": "AAAAAAAAAAB4GzrHrUsEQHgbOsetSwRAjtx/c4YHAEA=",
          "dtype": "f8"
         },
         "yaxis": "y"
        },
        {
         "hoverinfo": "text",
         "marker": {
          "color": "rgb(255,220,0)"
         },
         "mode": "lines",
         "type": "scatter",
         "x": {
          "bdata": "AAAAAADIlEAAAAAAAMiUQAAAAAAAIpVAAAAAAAAilUA=",
          "dtype": "f8"
         },
         "xaxis": "x",
         "y": {
          "bdata": "PKVhB4yK9z8c84PDuNwFQBzzg8O43AVAeBs6x61LBEA=",
          "dtype": "f8"
         },
         "yaxis": "y"
        },
        {
         "hoverinfo": "text",
         "marker": {
          "color": "rgb(255,220,0)"
         },
         "mode": "lines",
         "type": "scatter",
         "x": {
          "bdata": "AAAAAACklUAAAAAAAKSVQAAAAAAAzJVAAAAAAADMlUA=",
          "dtype": "f8"
         },
         "xaxis": "x",
         "y": {
          "bdata": "AAAAAAAAAAC3qoHzG+3zP7eqgfMb7fM/AAAAAAAAAAA=",
          "dtype": "f8"
         },
         "yaxis": "y"
        },
        {
         "hoverinfo": "text",
         "marker": {
          "color": "rgb(255,220,0)"
         },
         "mode": "lines",
         "type": "scatter",
         "x": {
          "bdata": "AAAAAAAclkAAAAAAAByWQAAAAAAARJZAAAAAAABElkA=",
          "dtype": "f8"
         },
         "xaxis": "x",
         "y": {
          "bdata": "AAAAAAAAAACy9NFQRKb3P7L00VBEpvc/AAAAAAAAAAA=",
          "dtype": "f8"
         },
         "yaxis": "y"
        },
        {
         "hoverinfo": "text",
         "marker": {
          "color": "rgb(255,220,0)"
         },
         "mode": "lines",
         "type": "scatter",
         "x": {
          "bdata": "AAAAAAD0lUAAAAAAAPSVQAAAAAAAMJZAAAAAAAAwlkA=",
          "dtype": "f8"
         },
         "xaxis": "x",
         "y": {
          "bdata": "AAAAAAAAAABtIUx/UM/8P20hTH9Qz/w/svTRUESm9z8=",
          "dtype": "f8"
         },
         "yaxis": "y"
        },
        {
         "hoverinfo": "text",
         "marker": {
          "color": "rgb(255,220,0)"
         },
         "mode": "lines",
         "type": "scatter",
         "x": {
          "bdata": "AAAAAAC4lUAAAAAAALiVQAAAAAAAEpZAAAAAAAASlkA=",
          "dtype": "f8"
         },
         "xaxis": "x",
         "y": {
          "bdata": "t6qB8xvt8z8K8PNxXhcDQArw83FeFwNAbSFMf1DP/D8=",
          "dtype": "f8"
         },
         "yaxis": "y"
        },
        {
         "hoverinfo": "text",
         "marker": {
          "color": "rgb(255,220,0)"
         },
         "mode": "lines",
         "type": "scatter",
         "x": {
          "bdata": "AAAAAAB8lUAAAAAAAHyVQAAAAAAA5ZVAAAAAAADllUA=",
          "dtype": "f8"
         },
         "xaxis": "x",
         "y": {
          "bdata": "AAAAAAAAAABiklfNyjQFQGKSV83KNAVACvDzcV4XA0A=",
          "dtype": "f8"
         },
         "yaxis": "y"
        },
        {
         "hoverinfo": "text",
         "marker": {
          "color": "rgb(255,220,0)"
         },
         "mode": "lines",
         "type": "scatter",
         "x": {
          "bdata": "AAAAAABslkAAAAAAAGyWQAAAAAAAlJZAAAAAAACUlkA=",
          "dtype": "f8"
         },
         "xaxis": "x",
         "y": {
          "bdata": "AAAAAAAAAABHBcwHLNEKQEcFzAcs0QpAAAAAAAAAAAA=",
          "dtype": "f8"
         },
         "yaxis": "y"
        },
        {
         "hoverinfo": "text",
         "marker": {
          "color": "rgb(255,220,0)"
         },
         "mode": "lines",
         "type": "scatter",
         "x": {
          "bdata": "AAAAAICwlUAAAAAAgLCVQAAAAAAAgJZAAAAAAACAlkA=",
          "dtype": "f8"
         },
         "xaxis": "x",
         "y": {
          "bdata": "YpJXzco0BUBCy80QPdoOQELLzRA92g5ARwXMByzRCkA=",
          "dtype": "f8"
         },
         "yaxis": "y"
        },
        {
         "hoverinfo": "text",
         "marker": {
          "color": "rgb(255,220,0)"
         },
         "mode": "lines",
         "type": "scatter",
         "x": {
          "bdata": "AAAAAAD1lEAAAAAAAPWUQAAAAABAGJZAAAAAAEAYlkA=",
          "dtype": "f8"
         },
         "xaxis": "x",
         "y": {
          "bdata": "HPODw7jcBUCEE2mStFERQIQTaZK0URFAQsvNED3aDkA=",
          "dtype": "f8"
         },
         "yaxis": "y"
        },
        {
         "hoverinfo": "text",
         "marker": {
          "color": "rgb(255,220,0)"
         },
         "mode": "lines",
         "type": "scatter",
         "x": {
          "bdata": "AAAAAAB4lEAAAAAAAHiUQAAAAACghpVAAAAAAKCGlUA=",
          "dtype": "f8"
         },
         "xaxis": "x",
         "y": {
          "bdata": "S7Bpt0FJCkC503AfyoUUQLnTcB/KhRRAhBNpkrRREUA=",
          "dtype": "f8"
         },
         "yaxis": "y"
        },
        {
         "hoverinfo": "text",
         "marker": {
          "color": "rgb(255,220,0)"
         },
         "mode": "lines",
         "type": "scatter",
         "x": {
          "bdata": "AAAAAAC8lkAAAAAAALyWQAAAAAAA5JZAAAAAAADklkA=",
          "dtype": "f8"
         },
         "xaxis": "x",
         "y": {
          "bdata": "AAAAAAAAAABpG5bLncIHQGkblsudwgdAAAAAAAAAAAA=",
          "dtype": "f8"
         },
         "yaxis": "y"
        },
        {
         "hoverinfo": "text",
         "marker": {
          "color": "rgb(255,220,0)"
         },
         "mode": "lines",
         "type": "scatter",
         "x": {
          "bdata": "AAAAAAA0l0AAAAAAADSXQAAAAAAAXJdAAAAAAABcl0A=",
          "dtype": "f8"
         },
         "xaxis": "x",
         "y": {
          "bdata": "AAAAAAAAAAAhLoTzIFwDQCEuhPMgXANAAAAAAAAAAAA=",
          "dtype": "f8"
         },
         "yaxis": "y"
        },
        {
         "hoverinfo": "text",
         "marker": {
          "color": "rgb(255,220,0)"
         },
         "mode": "lines",
         "type": "scatter",
         "x": {
          "bdata": "AAAAAAAMl0AAAAAAAAyXQAAAAAAASJdAAAAAAABIl0A=",
          "dtype": "f8"
         },
         "xaxis": "x",
         "y": {
          "bdata": "AAAAAAAAAAC6Urf7Wl0JQLpSt/taXQlAIS6E8yBcA0A=",
          "dtype": "f8"
         },
         "yaxis": "y"
        },
        {
         "hoverinfo": "text",
         "marker": {
          "color": "rgb(255,220,0)"
         },
         "mode": "lines",
         "type": "scatter",
         "x": {
          "bdata": "AAAAAADQlkAAAAAAANCWQAAAAAAAKpdAAAAAAAAql0A=",
          "dtype": "f8"
         },
         "xaxis": "x",
         "y": {
          "bdata": "aRuWy53CB0CQCbTNtLAQQJAJtM20sBBAulK3+1pdCUA=",
          "dtype": "f8"
         },
         "yaxis": "y"
        },
        {
         "hoverinfo": "text",
         "marker": {
          "color": "rgb(255,220,0)"
         },
         "mode": "lines",
         "type": "scatter",
         "x": {
          "bdata": "AAAAAAD8l0AAAAAAAPyXQAAAAAAAJJhAAAAAAAAkmEA=",
          "dtype": "f8"
         },
         "xaxis": "x",
         "y": {
          "bdata": "AAAAAAAAAADWjUclgqL1P9aNRyWCovU/AAAAAAAAAAA=",
          "dtype": "f8"
         },
         "yaxis": "y"
        },
        {
         "hoverinfo": "text",
         "marker": {
          "color": "rgb(255,220,0)"
         },
         "mode": "lines",
         "type": "scatter",
         "x": {
          "bdata": "AAAAAADUl0AAAAAAANSXQAAAAAAAEJhAAAAAAAAQmEA=",
          "dtype": "f8"
         },
         "xaxis": "x",
         "y": {
          "bdata": "AAAAAAAAAACz2q646Z34P7Parrjpnfg/1o1HJYKi9T8=",
          "dtype": "f8"
         },
         "yaxis": "y"
        },
        {
         "hoverinfo": "text",
         "marker": {
          "color": "rgb(255,220,0)"
         },
         "mode": "lines",
         "type": "scatter",
         "x": {
          "bdata": "AAAAAACsl0AAAAAAAKyXQAAAAAAA8pdAAAAAAADyl0A=",
          "dtype": "f8"
         },
         "xaxis": "x",
         "y": {
          "bdata": "AAAAAAAAAAA74/zh3sL/Pzvj/OHewv8/s9quuOmd+D8=",
          "dtype": "f8"
         },
         "yaxis": "y"
        },
        {
         "hoverinfo": "text",
         "marker": {
          "color": "rgb(255,220,0)"
         },
         "mode": "lines",
         "type": "scatter",
         "x": {
          "bdata": "AAAAAACEl0AAAAAAAISXQAAAAAAAz5dAAAAAAADPl0A=",
          "dtype": "f8"
         },
         "xaxis": "x",
         "y": {
          "bdata": "AAAAAAAAAADWayEYgUABQNZrIRiBQAFAO+P84d7C/z8=",
          "dtype": "f8"
         },
         "yaxis": "y"
        },
        {
         "hoverinfo": "text",
         "marker": {
          "color": "rgb(255,220,0)"
         },
         "mode": "lines",
         "type": "scatter",
         "x": {
          "bdata": "AAAAAABMmEAAAAAAAEyYQAAAAAAAdJhAAAAAAAB0mEA=",
          "dtype": "f8"
         },
         "xaxis": "x",
         "y": {
          "bdata": "AAAAAAAAAAALi2I6QGEEQAuLYjpAYQRAAAAAAAAAAAA=",
          "dtype": "f8"
         },
         "yaxis": "y"
        },
        {
         "hoverinfo": "text",
         "marker": {
          "color": "rgb(255,220,0)"
         },
         "mode": "lines",
         "type": "scatter",
         "x": {
          "bdata": "AAAAAICpl0AAAAAAgKmXQAAAAAAAYJhAAAAAAABgmEA=",
          "dtype": "f8"
         },
         "xaxis": "x",
         "y": {
          "bdata": "1mshGIFAAUCQbW35nhwJQJBtbfmeHAlAC4tiOkBhBEA=",
          "dtype": "f8"
         },
         "yaxis": "y"
        },
        {
         "hoverinfo": "text",
         "marker": {
          "color": "rgb(255,220,0)"
         },
         "mode": "lines",
         "type": "scatter",
         "x": {
          "bdata": "AAAAAACcmEAAAAAAAJyYQAAAAAAAxJhAAAAAAADEmEA=",
          "dtype": "f8"
         },
         "xaxis": "x",
         "y": {
          "bdata": "AAAAAAAAAABosNoD9IIBQGiw2gP0ggFAAAAAAAAAAAA=",
          "dtype": "f8"
         },
         "yaxis": "y"
        },
        {
         "hoverinfo": "text",
         "marker": {
          "color": "rgb(255,220,0)"
         },
         "mode": "lines",
         "type": "scatter",
         "x": {
          "bdata": "AAAAAADsmEAAAAAAAOyYQAAAAAAAFJlAAAAAAAAUmUA=",
          "dtype": "f8"
         },
         "xaxis": "x",
         "y": {
          "bdata": "AAAAAAAAAADRVLN6bLr5P9FUs3psuvk/AAAAAAAAAAA=",
          "dtype": "f8"
         },
         "yaxis": "y"
        },
        {
         "hoverinfo": "text",
         "marker": {
          "color": "rgb(255,220,0)"
         },
         "mode": "lines",
         "type": "scatter",
         "x": {
          "bdata": "AAAAAAA8mUAAAAAAADyZQAAAAAAAZJlAAAAAAABkmUA=",
          "dtype": "f8"
         },
         "xaxis": "x",
         "y": {
          "bdata": "AAAAAAAAAAC9ItPZ1TH9P70i09nVMf0/AAAAAAAAAAA=",
          "dtype": "f8"
         },
         "yaxis": "y"
        },
        {
         "hoverinfo": "text",
         "marker": {
          "color": "rgb(255,220,0)"
         },
         "mode": "lines",
         "type": "scatter",
         "x": {
          "bdata": "AAAAAAAAmUAAAAAAAACZQAAAAAAAUJlAAAAAAABQmUA=",
          "dtype": "f8"
         },
         "xaxis": "x",
         "y": {
          "bdata": "0VSzemy6+T+ucmXHylkDQK5yZcfKWQNAvSLT2dUx/T8=",
          "dtype": "f8"
         },
         "yaxis": "y"
        },
        {
         "hoverinfo": "text",
         "marker": {
          "color": "rgb(255,220,0)"
         },
         "mode": "lines",
         "type": "scatter",
         "x": {
          "bdata": "AAAAAACwmEAAAAAAALCYQAAAAAAAKJlAAAAAAAAomUA=",
          "dtype": "f8"
         },
         "xaxis": "x",
         "y": {
          "bdata": "aLDaA/SCAUCD5oOtuFcFQIPmg624VwVArnJlx8pZA0A=",
          "dtype": "f8"
         },
         "yaxis": "y"
        },
        {
         "hoverinfo": "text",
         "marker": {
          "color": "rgb(255,220,0)"
         },
         "mode": "lines",
         "type": "scatter",
         "x": {
          "bdata": "AAAAAAC0mUAAAAAAALSZQAAAAAAA3JlAAAAAAADcmUA=",
          "dtype": "f8"
         },
         "xaxis": "x",
         "y": {
          "bdata": "AAAAAAAAAAB0+DnK1AH3P3T4OcrUAfc/AAAAAAAAAAA=",
          "dtype": "f8"
         },
         "yaxis": "y"
        },
        {
         "hoverinfo": "text",
         "marker": {
          "color": "rgb(255,220,0)"
         },
         "mode": "lines",
         "type": "scatter",
         "x": {
          "bdata": "AAAAAACMmUAAAAAAAIyZQAAAAAAAyJlAAAAAAADImUA=",
          "dtype": "f8"
         },
         "xaxis": "x",
         "y": {
          "bdata": "AAAAAAAAAABB8OsBsQj9P0Hw6wGxCP0/dPg5ytQB9z8=",
          "dtype": "f8"
         },
         "yaxis": "y"
        },
        {
         "hoverinfo": "text",
         "marker": {
          "color": "rgb(255,220,0)"
         },
         "mode": "lines",
         "type": "scatter",
         "x": {
          "bdata": "AAAAAAAEmkAAAAAAAASaQAAAAAAALJpAAAAAAAAsmkA=",
          "dtype": "f8"
         },
         "xaxis": "x",
         "y": {
          "bdata": "AAAAAAAAAACVymZhoOT9P5XKZmGg5P0/AAAAAAAAAAA=",
          "dtype": "f8"
         },
         "yaxis": "y"
        },
        {
         "hoverinfo": "text",
         "marker": {
          "color": "rgb(255,220,0)"
         },
         "mode": "lines",
         "type": "scatter",
         "x": {
          "bdata": "AAAAAACqmUAAAAAAAKqZQAAAAAAAGJpAAAAAAAAYmkA=",
          "dtype": "f8"
         },
         "xaxis": "x",
         "y": {
          "bdata": "QfDrAbEI/T/ZuVNTW4gCQNm5U1NbiAJAlcpmYaDk/T8=",
          "dtype": "f8"
         },
         "yaxis": "y"
        },
        {
         "hoverinfo": "text",
         "marker": {
          "color": "rgb(255,220,0)"
         },
         "mode": "lines",
         "type": "scatter",
         "x": {
          "bdata": "AAAAAAB8mkAAAAAAAHyaQAAAAAAApJpAAAAAAACkmkA=",
          "dtype": "f8"
         },
         "xaxis": "x",
         "y": {
          "bdata": "AAAAAAAAAAAczt0B65j8PxzO3QHrmPw/AAAAAAAAAAA=",
          "dtype": "f8"
         },
         "yaxis": "y"
        },
        {
         "hoverinfo": "text",
         "marker": {
          "color": "rgb(255,220,0)"
         },
         "mode": "lines",
         "type": "scatter",
         "x": {
          "bdata": "AAAAAABUmkAAAAAAAFSaQAAAAAAAkJpAAAAAAACQmkA=",
          "dtype": "f8"
         },
         "xaxis": "x",
         "y": {
          "bdata": "AAAAAAAAAABS+SAlDh0DQFL5ICUOHQNAHM7dAeuY/D8=",
          "dtype": "f8"
         },
         "yaxis": "y"
        },
        {
         "hoverinfo": "text",
         "marker": {
          "color": "rgb(255,220,0)"
         },
         "mode": "lines",
         "type": "scatter",
         "x": {
          "bdata": "AAAAAADhmUAAAAAAAOGZQAAAAAAAcppAAAAAAABymkA=",
          "dtype": "f8"
         },
         "xaxis": "x",
         "y": {
          "bdata": "2blTU1uIAkA0nv5DakULQDSe/kNqRQtAUvkgJQ4dA0A=",
          "dtype": "f8"
         },
         "yaxis": "y"
        },
        {
         "hoverinfo": "text",
         "marker": {
          "color": "rgb(255,220,0)"
         },
         "mode": "lines",
         "type": "scatter",
         "x": {
          "bdata": "AAAAAADsmEAAAAAAAOyYQAAAAACAKZpAAAAAAIApmkA=",
          "dtype": "f8"
         },
         "xaxis": "x",
         "y": {
          "bdata": "g+aDrbhXBUB103R4POgNQHXTdHg86A1ANJ7+Q2pFC0A=",
          "dtype": "f8"
         },
         "yaxis": "y"
        },
        {
         "hoverinfo": "text",
         "marker": {
          "color": "rgb(255,220,0)"
         },
         "mode": "lines",
         "type": "scatter",
         "x": {
          "bdata": "AAAAAMAEmEAAAAAAwASYQAAAAADAiplAAAAAAMCKmUA=",
          "dtype": "f8"
         },
         "xaxis": "x",
         "y": {
          "bdata": "kG1t+Z4cCUAy2xCixNYOQDLbEKLE1g5AddN0eDzoDUA=",
          "dtype": "f8"
         },
         "yaxis": "y"
        },
        {
         "hoverinfo": "text",
         "marker": {
          "color": "rgb(255,220,0)"
         },
         "mode": "lines",
         "type": "scatter",
         "x": {
          "bdata": "AAAAAAAcm0AAAAAAABybQAAAAAAARJtAAAAAAABEm0A=",
          "dtype": "f8"
         },
         "xaxis": "x",
         "y": {
          "bdata": "AAAAAAAAAADKHvAQyUj9P8oe8BDJSP0/AAAAAAAAAAA=",
          "dtype": "f8"
         },
         "yaxis": "y"
        },
        {
         "hoverinfo": "text",
         "marker": {
          "color": "rgb(255,220,0)"
         },
         "mode": "lines",
         "type": "scatter",
         "x": {
          "bdata": "AAAAAAD0mkAAAAAAAPSaQAAAAAAAMJtAAAAAAAAwm0A=",
          "dtype": "f8"
         },
         "xaxis": "x",
         "y": {
          "bdata": "AAAAAAAAAABXKwYlxeMDQFcrBiXF4wNAyh7wEMlI/T8=",
          "dtype": "f8"
         },
         "yaxis": "y"
        },
        {
         "hoverinfo": "text",
         "marker": {
          "color": "rgb(255,220,0)"
         },
         "mode": "lines",
         "type": "scatter",
         "x": {
          "bdata": "AAAAAACUm0AAAAAAAJSbQAAAAAAAvJtAAAAAAAC8m0A=",
          "dtype": "f8"
         },
         "xaxis": "x",
         "y": {
          "bdata": "AAAAAAAAAACpHaHb9yT2P6kdodv3JPY/AAAAAAAAAAA=",
          "dtype": "f8"
         },
         "yaxis": "y"
        },
        {
         "hoverinfo": "text",
         "marker": {
          "color": "rgb(255,220,0)"
         },
         "mode": "lines",
         "type": "scatter",
         "x": {
          "bdata": "AAAAAABsm0AAAAAAAGybQAAAAAAAqJtAAAAAAACom0A=",
          "dtype": "f8"
         },
         "xaxis": "x",
         "y": {
          "bdata": "AAAAAAAAAAAGyJ6zaj0FQAbInrNqPQVAqR2h2/ck9j8=",
          "dtype": "f8"
         },
         "yaxis": "y"
        },
        {
         "hoverinfo": "text",
         "marker": {
          "color": "rgb(255,220,0)"
         },
         "mode": "lines",
         "type": "scatter",
         "x": {
          "bdata": "AAAAAAASm0AAAAAAABKbQAAAAAAAiptAAAAAAACKm0A=",
          "dtype": "f8"
         },
         "xaxis": "x",
         "y": {
          "bdata": "VysGJcXjA0D3S2k7tQsNQPdLaTu1Cw1ABsies2o9BUA=",
          "dtype": "f8"
         },
         "yaxis": "y"
        },
        {
         "hoverinfo": "text",
         "marker": {
          "color": "rgb(255,220,0)"
         },
         "mode": "lines",
         "type": "scatter",
         "x": {
          "bdata": "AAAAAADMmkAAAAAAAMyaQAAAAAAATptAAAAAAABOm0A=",
          "dtype": "f8"
         },
         "xaxis": "x",
         "y": {
          "bdata": "AAAAAAAAAAAwGfGxOhwSQDAZ8bE6HBJA90tpO7ULDUA=",
          "dtype": "f8"
         },
         "yaxis": "y"
        },
        {
         "hoverinfo": "text",
         "marker": {
          "color": "rgb(255,220,0)"
         },
         "mode": "lines",
         "type": "scatter",
         "x": {
          "bdata": "AAAAAMDHmEAAAAAAwMeYQAAAAAAADZtAAAAAAAANm0A=",
          "dtype": "f8"
         },
         "xaxis": "x",
         "y": {
          "bdata": "MtsQosTWDkBVaB1TSAYVQFVoHVNIBhVAMBnxsTocEkA=",
          "dtype": "f8"
         },
         "yaxis": "y"
        },
        {
         "hoverinfo": "text",
         "marker": {
          "color": "rgb(255,220,0)"
         },
         "mode": "lines",
         "type": "scatter",
         "x": {
          "bdata": "AAAAAAD9lkAAAAAAAP2WQAAAAABg6plAAAAAAGDqmUA=",
          "dtype": "f8"
         },
         "xaxis": "x",
         "y": {
          "bdata": "kAm0zbSwEECkzmSeaBMXQKTOZJ5oExdAVWgdU0gGFUA=",
          "dtype": "f8"
         },
         "yaxis": "y"
        },
        {
         "hoverinfo": "text",
         "marker": {
          "color": "rgb(255,220,0)"
         },
         "mode": "lines",
         "type": "scatter",
         "x": {
          "bdata": "AAAAAFD/lEAAAAAAUP+UQAAAAACwc5hAAAAAALBzmEA=",
          "dtype": "f8"
         },
         "xaxis": "x",
         "y": {
          "bdata": "udNwH8qFFECFFlZn8k4aQIUWVmfyThpApM5knmgTF0A=",
          "dtype": "f8"
         },
         "yaxis": "y"
        },
        {
         "hoverinfo": "text",
         "marker": {
          "color": "rgb(0,116,217)"
         },
         "mode": "lines",
         "type": "scatter",
         "x": {
          "bdata": "AAAAAAAVk0AAAAAAABWTQAAAAACAuZZAAAAAAIC5lkA=",
          "dtype": "f8"
         },
         "xaxis": "x",
         "y": {
          "bdata": "+FKkoaSHGUAoz8m5FYogQCjPybkViiBAhRZWZ/JOGkA=",
          "dtype": "f8"
         },
         "yaxis": "y"
        },
        {
         "hoverinfo": "text",
         "marker": {
          "color": "rgb(0,116,217)"
         },
         "mode": "lines",
         "type": "scatter",
         "x": {
          "bdata": "AAAAAIy1iEAAAAAAjLWIQAAAAABA55RAAAAAAEDnlEA=",
          "dtype": "f8"
         },
         "xaxis": "x",
         "y": {
          "bdata": "8b8lVcmlHkCmjpm0GZ8jQKaOmbQZnyNAKM/JuRWKIEA=",
          "dtype": "f8"
         },
         "yaxis": "y"
        },
        {
         "hoverinfo": "text",
         "marker": {
          "color": "rgb(0,116,217)"
         },
         "mode": "lines",
         "type": "scatter",
         "x": {
          "bdata": "AAAAABD9cEAAAAAAEP1wQAAAAAADoZBAAAAAAAOhkEA=",
          "dtype": "f8"
         },
         "xaxis": "x",
         "y": {
          "bdata": "rqf/MtDcIUDwgzw2SWwmQPCDPDZJbCZApo6ZtBmfI0A=",
          "dtype": "f8"
         },
         "yaxis": "y"
        }
       ],
       "layout": {
        "autosize": false,
        "height": null,
        "hovermode": "closest",
        "showlegend": false,
        "template": {
         "data": {
          "bar": [
           {
            "error_x": {
             "color": "#2a3f5f"
            },
            "error_y": {
             "color": "#2a3f5f"
            },
            "marker": {
             "line": {
              "color": "#E5ECF6",
              "width": 0.5
             },
             "pattern": {
              "fillmode": "overlay",
              "size": 10,
              "solidity": 0.2
             }
            },
            "type": "bar"
           }
          ],
          "barpolar": [
           {
            "marker": {
             "line": {
              "color": "#E5ECF6",
              "width": 0.5
             },
             "pattern": {
              "fillmode": "overlay",
              "size": 10,
              "solidity": 0.2
             }
            },
            "type": "barpolar"
           }
          ],
          "carpet": [
           {
            "aaxis": {
             "endlinecolor": "#2a3f5f",
             "gridcolor": "white",
             "linecolor": "white",
             "minorgridcolor": "white",
             "startlinecolor": "#2a3f5f"
            },
            "baxis": {
             "endlinecolor": "#2a3f5f",
             "gridcolor": "white",
             "linecolor": "white",
             "minorgridcolor": "white",
             "startlinecolor": "#2a3f5f"
            },
            "type": "carpet"
           }
          ],
          "choropleth": [
           {
            "colorbar": {
             "outlinewidth": 0,
             "ticks": ""
            },
            "type": "choropleth"
           }
          ],
          "contour": [
           {
            "colorbar": {
             "outlinewidth": 0,
             "ticks": ""
            },
            "colorscale": [
             [
              0,
              "#0d0887"
             ],
             [
              0.1111111111111111,
              "#46039f"
             ],
             [
              0.2222222222222222,
              "#7201a8"
             ],
             [
              0.3333333333333333,
              "#9c179e"
             ],
             [
              0.4444444444444444,
              "#bd3786"
             ],
             [
              0.5555555555555556,
              "#d8576b"
             ],
             [
              0.6666666666666666,
              "#ed7953"
             ],
             [
              0.7777777777777778,
              "#fb9f3a"
             ],
             [
              0.8888888888888888,
              "#fdca26"
             ],
             [
              1,
              "#f0f921"
             ]
            ],
            "type": "contour"
           }
          ],
          "contourcarpet": [
           {
            "colorbar": {
             "outlinewidth": 0,
             "ticks": ""
            },
            "type": "contourcarpet"
           }
          ],
          "heatmap": [
           {
            "colorbar": {
             "outlinewidth": 0,
             "ticks": ""
            },
            "colorscale": [
             [
              0,
              "#0d0887"
             ],
             [
              0.1111111111111111,
              "#46039f"
             ],
             [
              0.2222222222222222,
              "#7201a8"
             ],
             [
              0.3333333333333333,
              "#9c179e"
             ],
             [
              0.4444444444444444,
              "#bd3786"
             ],
             [
              0.5555555555555556,
              "#d8576b"
             ],
             [
              0.6666666666666666,
              "#ed7953"
             ],
             [
              0.7777777777777778,
              "#fb9f3a"
             ],
             [
              0.8888888888888888,
              "#fdca26"
             ],
             [
              1,
              "#f0f921"
             ]
            ],
            "type": "heatmap"
           }
          ],
          "histogram": [
           {
            "marker": {
             "pattern": {
              "fillmode": "overlay",
              "size": 10,
              "solidity": 0.2
             }
            },
            "type": "histogram"
           }
          ],
          "histogram2d": [
           {
            "colorbar": {
             "outlinewidth": 0,
             "ticks": ""
            },
            "colorscale": [
             [
              0,
              "#0d0887"
             ],
             [
              0.1111111111111111,
              "#46039f"
             ],
             [
              0.2222222222222222,
              "#7201a8"
             ],
             [
              0.3333333333333333,
              "#9c179e"
             ],
             [
              0.4444444444444444,
              "#bd3786"
             ],
             [
              0.5555555555555556,
              "#d8576b"
             ],
             [
              0.6666666666666666,
              "#ed7953"
             ],
             [
              0.7777777777777778,
              "#fb9f3a"
             ],
             [
              0.8888888888888888,
              "#fdca26"
             ],
             [
              1,
              "#f0f921"
             ]
            ],
            "type": "histogram2d"
           }
          ],
          "histogram2dcontour": [
           {
            "colorbar": {
             "outlinewidth": 0,
             "ticks": ""
            },
            "colorscale": [
             [
              0,
              "#0d0887"
             ],
             [
              0.1111111111111111,
              "#46039f"
             ],
             [
              0.2222222222222222,
              "#7201a8"
             ],
             [
              0.3333333333333333,
              "#9c179e"
             ],
             [
              0.4444444444444444,
              "#bd3786"
             ],
             [
              0.5555555555555556,
              "#d8576b"
             ],
             [
              0.6666666666666666,
              "#ed7953"
             ],
             [
              0.7777777777777778,
              "#fb9f3a"
             ],
             [
              0.8888888888888888,
              "#fdca26"
             ],
             [
              1,
              "#f0f921"
             ]
            ],
            "type": "histogram2dcontour"
           }
          ],
          "mesh3d": [
           {
            "colorbar": {
             "outlinewidth": 0,
             "ticks": ""
            },
            "type": "mesh3d"
           }
          ],
          "parcoords": [
           {
            "line": {
             "colorbar": {
              "outlinewidth": 0,
              "ticks": ""
             }
            },
            "type": "parcoords"
           }
          ],
          "pie": [
           {
            "automargin": true,
            "type": "pie"
           }
          ],
          "scatter": [
           {
            "fillpattern": {
             "fillmode": "overlay",
             "size": 10,
             "solidity": 0.2
            },
            "type": "scatter"
           }
          ],
          "scatter3d": [
           {
            "line": {
             "colorbar": {
              "outlinewidth": 0,
              "ticks": ""
             }
            },
            "marker": {
             "colorbar": {
              "outlinewidth": 0,
              "ticks": ""
             }
            },
            "type": "scatter3d"
           }
          ],
          "scattercarpet": [
           {
            "marker": {
             "colorbar": {
              "outlinewidth": 0,
              "ticks": ""
             }
            },
            "type": "scattercarpet"
           }
          ],
          "scattergeo": [
           {
            "marker": {
             "colorbar": {
              "outlinewidth": 0,
              "ticks": ""
             }
            },
            "type": "scattergeo"
           }
          ],
          "scattergl": [
           {
            "marker": {
             "colorbar": {
              "outlinewidth": 0,
              "ticks": ""
             }
            },
            "type": "scattergl"
           }
          ],
          "scattermap": [
           {
            "marker": {
             "colorbar": {
              "outlinewidth": 0,
              "ticks": ""
             }
            },
            "type": "scattermap"
           }
          ],
          "scattermapbox": [
           {
            "marker": {
             "colorbar": {
              "outlinewidth": 0,
              "ticks": ""
             }
            },
            "type": "scattermapbox"
           }
          ],
          "scatterpolar": [
           {
            "marker": {
             "colorbar": {
              "outlinewidth": 0,
              "ticks": ""
             }
            },
            "type": "scatterpolar"
           }
          ],
          "scatterpolargl": [
           {
            "marker": {
             "colorbar": {
              "outlinewidth": 0,
              "ticks": ""
             }
            },
            "type": "scatterpolargl"
           }
          ],
          "scatterternary": [
           {
            "marker": {
             "colorbar": {
              "outlinewidth": 0,
              "ticks": ""
             }
            },
            "type": "scatterternary"
           }
          ],
          "surface": [
           {
            "colorbar": {
             "outlinewidth": 0,
             "ticks": ""
            },
            "colorscale": [
             [
              0,
              "#0d0887"
             ],
             [
              0.1111111111111111,
              "#46039f"
             ],
             [
              0.2222222222222222,
              "#7201a8"
             ],
             [
              0.3333333333333333,
              "#9c179e"
             ],
             [
              0.4444444444444444,
              "#bd3786"
             ],
             [
              0.5555555555555556,
              "#d8576b"
             ],
             [
              0.6666666666666666,
              "#ed7953"
             ],
             [
              0.7777777777777778,
              "#fb9f3a"
             ],
             [
              0.8888888888888888,
              "#fdca26"
             ],
             [
              1,
              "#f0f921"
             ]
            ],
            "type": "surface"
           }
          ],
          "table": [
           {
            "cells": {
             "fill": {
              "color": "#EBF0F8"
             },
             "line": {
              "color": "white"
             }
            },
            "header": {
             "fill": {
              "color": "#C8D4E3"
             },
             "line": {
              "color": "white"
             }
            },
            "type": "table"
           }
          ]
         },
         "layout": {
          "annotationdefaults": {
           "arrowcolor": "#2a3f5f",
           "arrowhead": 0,
           "arrowwidth": 1
          },
          "autotypenumbers": "strict",
          "coloraxis": {
           "colorbar": {
            "outlinewidth": 0,
            "ticks": ""
           }
          },
          "colorscale": {
           "diverging": [
            [
             0,
             "#8e0152"
            ],
            [
             0.1,
             "#c51b7d"
            ],
            [
             0.2,
             "#de77ae"
            ],
            [
             0.3,
             "#f1b6da"
            ],
            [
             0.4,
             "#fde0ef"
            ],
            [
             0.5,
             "#f7f7f7"
            ],
            [
             0.6,
             "#e6f5d0"
            ],
            [
             0.7,
             "#b8e186"
            ],
            [
             0.8,
             "#7fbc41"
            ],
            [
             0.9,
             "#4d9221"
            ],
            [
             1,
             "#276419"
            ]
           ],
           "sequential": [
            [
             0,
             "#0d0887"
            ],
            [
             0.1111111111111111,
             "#46039f"
            ],
            [
             0.2222222222222222,
             "#7201a8"
            ],
            [
             0.3333333333333333,
             "#9c179e"
            ],
            [
             0.4444444444444444,
             "#bd3786"
            ],
            [
             0.5555555555555556,
             "#d8576b"
            ],
            [
             0.6666666666666666,
             "#ed7953"
            ],
            [
             0.7777777777777778,
             "#fb9f3a"
            ],
            [
             0.8888888888888888,
             "#fdca26"
            ],
            [
             1,
             "#f0f921"
            ]
           ],
           "sequentialminus": [
            [
             0,
             "#0d0887"
            ],
            [
             0.1111111111111111,
             "#46039f"
            ],
            [
             0.2222222222222222,
             "#7201a8"
            ],
            [
             0.3333333333333333,
             "#9c179e"
            ],
            [
             0.4444444444444444,
             "#bd3786"
            ],
            [
             0.5555555555555556,
             "#d8576b"
            ],
            [
             0.6666666666666666,
             "#ed7953"
            ],
            [
             0.7777777777777778,
             "#fb9f3a"
            ],
            [
             0.8888888888888888,
             "#fdca26"
            ],
            [
             1,
             "#f0f921"
            ]
           ]
          },
          "colorway": [
           "#636efa",
           "#EF553B",
           "#00cc96",
           "#ab63fa",
           "#FFA15A",
           "#19d3f3",
           "#FF6692",
           "#B6E880",
           "#FF97FF",
           "#FECB52"
          ],
          "font": {
           "color": "#2a3f5f"
          },
          "geo": {
           "bgcolor": "white",
           "lakecolor": "white",
           "landcolor": "#E5ECF6",
           "showlakes": true,
           "showland": true,
           "subunitcolor": "white"
          },
          "hoverlabel": {
           "align": "left"
          },
          "hovermode": "closest",
          "mapbox": {
           "style": "light"
          },
          "paper_bgcolor": "white",
          "plot_bgcolor": "#E5ECF6",
          "polar": {
           "angularaxis": {
            "gridcolor": "white",
            "linecolor": "white",
            "ticks": ""
           },
           "bgcolor": "#E5ECF6",
           "radialaxis": {
            "gridcolor": "white",
            "linecolor": "white",
            "ticks": ""
           }
          },
          "scene": {
           "xaxis": {
            "backgroundcolor": "#E5ECF6",
            "gridcolor": "white",
            "gridwidth": 2,
            "linecolor": "white",
            "showbackground": true,
            "ticks": "",
            "zerolinecolor": "white"
           },
           "yaxis": {
            "backgroundcolor": "#E5ECF6",
            "gridcolor": "white",
            "gridwidth": 2,
            "linecolor": "white",
            "showbackground": true,
            "ticks": "",
            "zerolinecolor": "white"
           },
           "zaxis": {
            "backgroundcolor": "#E5ECF6",
            "gridcolor": "white",
            "gridwidth": 2,
            "linecolor": "white",
            "showbackground": true,
            "ticks": "",
            "zerolinecolor": "white"
           }
          },
          "shapedefaults": {
           "line": {
            "color": "#2a3f5f"
           }
          },
          "ternary": {
           "aaxis": {
            "gridcolor": "white",
            "linecolor": "white",
            "ticks": ""
           },
           "baxis": {
            "gridcolor": "white",
            "linecolor": "white",
            "ticks": ""
           },
           "bgcolor": "#E5ECF6",
           "caxis": {
            "gridcolor": "white",
            "linecolor": "white",
            "ticks": ""
           }
          },
          "title": {
           "x": 0.05
          },
          "xaxis": {
           "automargin": true,
           "gridcolor": "white",
           "linecolor": "white",
           "ticks": "",
           "title": {
            "standoff": 15
           },
           "zerolinecolor": "white",
           "zerolinewidth": 2
          },
          "yaxis": {
           "automargin": true,
           "gridcolor": "white",
           "linecolor": "white",
           "ticks": "",
           "title": {
            "standoff": 15
           },
           "zerolinecolor": "white",
           "zerolinewidth": 2
          }
         }
        },
        "title": {
         "text": "Interactive Dendrogram for Wine Dataset"
        },
        "width": null,
        "xaxis": {
         "mirror": "allticks",
         "rangemode": "tozero",
         "showgrid": false,
         "showline": true,
         "showticklabels": true,
         "tickmode": "array",
         "ticks": "outside",
         "ticktext": {
          "bdata": "PgA9AEUAQQBXAEcATgA8AD8ATQBMAGUAIQBCABsAOgAlACMAJgAWACQAGAAZACoALAACABwAJwAJAC8AAQAVACkAOQAKADAALQA3ABQAKAAIAC4ADgAPAAsAIAAyAAYAEwArADsABAA1AB8AAwAxADgABwAXAB4ANAAMAA0AYABGAE8AbwAzAEMAnwCgAGEAgwCFAIQAhgCZAJcAlgCYAJEAsACxAJQAoQCoAKwAmgCdAKUArQCVAK8AqgCyAKcAqQCiAI0AjwCMAKMAVACQAIsApgCeAJwArgCJAIoAmwCHAIgAkwB3AJIAjgCkAKsAegBKACIAEAA2ABEAEgAaAAUAHQBkAHQAUwBYAHIAWgBzAGoAXQBsAFkAWwBcAHEAgAB8AH0AggBQAHsARABmAGsAaQB1AEkAdgBeAF8AUQBiAFIAVgBnAHAAfgB/AIEAeABoAG0ASAB5AFUAbgBLAEAAYwA=",
          "dtype": "i2"
         },
         "tickvals": [
          5,
          15,
          25,
          35,
          45,
          55,
          65,
          75,
          85,
          95,
          105,
          115,
          125,
          135,
          145,
          155,
          165,
          175,
          185,
          195,
          205,
          215,
          225,
          235,
          245,
          255,
          265,
          275,
          285,
          295,
          305,
          315,
          325,
          335,
          345,
          355,
          365,
          375,
          385,
          395,
          405,
          415,
          425,
          435,
          445,
          455,
          465,
          475,
          485,
          495,
          505,
          515,
          525,
          535,
          545,
          555,
          565,
          575,
          585,
          595,
          605,
          615,
          625,
          635,
          645,
          655,
          665,
          675,
          685,
          695,
          705,
          715,
          725,
          735,
          745,
          755,
          765,
          775,
          785,
          795,
          805,
          815,
          825,
          835,
          845,
          855,
          865,
          875,
          885,
          895,
          905,
          915,
          925,
          935,
          945,
          955,
          965,
          975,
          985,
          995,
          1005,
          1015,
          1025,
          1035,
          1045,
          1055,
          1065,
          1075,
          1085,
          1095,
          1105,
          1115,
          1125,
          1135,
          1145,
          1155,
          1165,
          1175,
          1185,
          1195,
          1205,
          1215,
          1225,
          1235,
          1245,
          1255,
          1265,
          1275,
          1285,
          1295,
          1305,
          1315,
          1325,
          1335,
          1345,
          1355,
          1365,
          1375,
          1385,
          1395,
          1405,
          1415,
          1425,
          1435,
          1445,
          1455,
          1465,
          1475,
          1485,
          1495,
          1505,
          1515,
          1525,
          1535,
          1545,
          1555,
          1565,
          1575,
          1585,
          1595,
          1605,
          1615,
          1625,
          1635,
          1645,
          1655,
          1665,
          1675,
          1685,
          1695,
          1705,
          1715,
          1725,
          1735,
          1745,
          1755,
          1765,
          1775
         ],
         "title": {
          "text": "Sample Index"
         },
         "type": "linear",
         "zeroline": false
        },
        "yaxis": {
         "mirror": "allticks",
         "rangemode": "tozero",
         "showgrid": false,
         "showline": true,
         "showticklabels": true,
         "ticks": "outside",
         "title": {
          "text": "Distance"
         },
         "type": "linear",
         "zeroline": false
        }
       }
      }
     },
     "metadata": {},
     "output_type": "display_data"
    }
   ],
   "source": [
    "# Import necessary libraries for hierarchical clustering\n",
    "from sklearn.cluster import AgglomerativeClustering\n",
    "from scipy.cluster.hierarchy import dendrogram, linkage\n",
    "import matplotlib.pyplot as plt\n",
    "import numpy as np\n",
    "import plotly.figure_factory as ff\n",
    "\n",
    "# Apply Agglomerative Hierarchical Clustering\n",
    "# Test with 3 clusters, as the original dataset has 3 classes of wine\n",
    "hc = AgglomerativeClustering(n_clusters=3, linkage='ward')\n",
    "hc_labels = hc.fit_predict(X_scaled)\n",
    "\n",
    "# Visualize the clusters (using first two features for simplicity)\n",
    "plt.figure(figsize=(10, 6))\n",
    "plt.scatter(X_scaled[:, 0], X_scaled[:, 1], c=hc_labels, cmap='viridis')\n",
    "plt.title('Hierarchical Clustering of Wine Dataset (n_clusters=3)')\n",
    "plt.xlabel('Feature 1 (scaled)')\n",
    "plt.ylabel('Feature 2 (scaled)')\n",
    "plt.colorbar(label='Cluster Label')\n",
    "plt.show()\n",
    "\n",
    "# Create the interactive dendrogram\n",
    "fig = ff.create_dendrogram(X_scaled, labels=np.arange(1, X.shape[0] + 1))\n",
    "\n",
    "# Update the layout for a better title and axis labels\n",
    "fig.update_layout(\n",
    "    title='Interactive Dendrogram for Wine Dataset',\n",
    "    xaxis_title='Sample Index',\n",
    "    yaxis_title='Distance'\n",
    ")\n",
    "\n",
    "fig.show()\n"
   ]
  },
  {
   "cell_type": "markdown",
   "id": "af36bd06",
   "metadata": {},
   "source": []
  },
  {
   "cell_type": "markdown",
   "id": "b67ab142",
   "metadata": {},
   "source": [
    "- Performed hierarchical clustering on the standardized data using AgglomerativeClustering to create 3 clusters.\n",
    "\n",
    "- Visualized the resulting clusters on a two-dimensional scatter plot, with points colored by their cluster label.\n",
    "\n",
    "- Generated an interactive dendrogram to explore the complete hierarchical structure and see how samples are grouped at different linkage distances."
   ]
  },
  {
   "cell_type": "markdown",
   "id": "ce6eae43",
   "metadata": {},
   "source": [
    "## 3. DBSCAN Clustering and Evaluation"
   ]
  },
  {
   "cell_type": "code",
   "execution_count": 69,
   "id": "5dba52e0",
   "metadata": {},
   "outputs": [
    {
     "data": {
      "image/png": "[encoded data removed]",
      "text/plain": [
       "<Figure size 1000x600 with 2 Axes>"
      ]
     },
     "metadata": {},
     "output_type": "display_data"
    },
    {
     "name": "stdout",
     "output_type": "stream",
     "text": [
      "Silhouette Score: 0.196\n",
      "Homogeneity Score: 0.504\n",
      "Completeness Score: 0.552\n"
     ]
    }
   ],
   "source": [
    "# Import necessary libraries for DBSCAN and evaluation\n",
    "from sklearn.cluster import DBSCAN\n",
    "from sklearn.metrics import silhouette_score, homogeneity_score, completeness_score\n",
    "\n",
    "# Apply DBSCAN - you should experiment with these eps and min_samples values\n",
    "dbscan = DBSCAN(eps=2.4, min_samples=5)\n",
    "dbscan_labels = dbscan.fit_predict(X_scaled)\n",
    "\n",
    "# Visualize the resulting clusters and highlight noise points\n",
    "# Note: Noise points are labeled as -1\n",
    "plt.figure(figsize=(10, 6))\n",
    "plt.scatter(X_scaled[:, 0], X_scaled[:, 1], c=dbscan_labels, cmap='viridis')\n",
    "plt.title('DBSCAN Clustering of Wine Dataset (eps=2.4, min_samples=5)')\n",
    "plt.xlabel('Feature 1 (scaled)')\n",
    "plt.ylabel('Feature 2 (scaled)')\n",
    "plt.colorbar(label='Cluster Label (-1 is noise)')\n",
    "plt.show()\n",
    "\n",
    "# --- Compute and Report Evaluation Metrics ---\n",
    "\n",
    "# Silhouette Score (requires at least 2 clusters, excluding noise)\n",
    "num_clusters = len(set(dbscan_labels)) - (1 if -1 in dbscan_labels else 0)\n",
    "if num_clusters > 1:\n",
    "    silhouette = silhouette_score(X_scaled, dbscan_labels)\n",
    "    print(f'Silhouette Score: {silhouette:.3f}')\n",
    "else:\n",
    "    print('Silhouette Score cannot be calculated with one cluster.')\n",
    "\n",
    "# Homogeneity and Completeness Scores (compares results to the true labels 'y')\n",
    "homogeneity = homogeneity_score(y, dbscan_labels)\n",
    "completeness = completeness_score(y, dbscan_labels)\n",
    "\n",
    "print(f'Homogeneity Score: {homogeneity:.3f}')\n",
    "print(f'Completeness Score: {completeness:.3f}')"
   ]
  },
  {
   "cell_type": "markdown",
   "id": "1c6bc955",
   "metadata": {},
   "source": [
    "- Imported DBSCAN clustering algorithm and evaluation metrics (silhouette_score, homogeneity_score, completeness_score) from scikit-learn\n",
    "\n",
    "- Applied DBSCAN to the standardized wine dataset with specified `eps` and `min_samples` parameters.\n",
    "\n",
    "- Visualized the resulting clusters using a scatter plot, with noise points (label -1) highlighted.\n",
    "\n",
    "- Calculated and printed the Silhouette Score.\n",
    "\n",
    "- Computed and displayed the Homogeneity and Completeness Scores by comparing the clustering labels to the true wine class labels."
   ]
  },
  {
   "cell_type": "markdown",
   "id": "faa08239",
   "metadata": {},
   "source": [
    "## 4. Analysis and Insights"
   ]
  },
  {
   "cell_type": "markdown",
   "id": "7731cfc7",
   "metadata": {},
   "source": [
    "**Hierarchical Clustering** \n",
    "- The interactive dendrogram clearly shows the data naturally branching into three main groups, which justifies the choice of `n_clusters=3`.\n",
    "- The scatter plot confirms this by showing three visually distinct and relatively well-separated clusters. This indicates the algorithm effectively partitioned the data according to its underlying structure.\n",
    "- Strength: The dendrogram provides a great visualization of the entire hierarchy, making the choice of `k` transparent.\n",
    "- Weakness: The method is less flexible and requires the user to specify the number of clusters.\n",
    "\n",
    "**DBSCAN**\n",
    "- The initial run with untuned parameters failed to find a meaningful structure. However, after an iterative tuning process, an optimal value of `eps=2.4` was found.\n",
    "- With the tuned parameters, DBSCAN successfully identified distinct clusters while also isolating noise points, confirmed by a strong positive Silhouette Score (0.196) and good Homogeneity (0.504) and Completeness (0.552) scores.\n",
    "- Strength: Its ability to find natural cluster structures and identify noise without needing the number of clusters specified beforehand is a major advantage.\n",
    "- Weakness: The process proved its primary weakness: extreme sensitivity to the `eps` and `min_samples` parameters, which requires a careful, empirical tuning process to be effective.\n",
    "\n",
    "\n",
    "**Finally**\n",
    "\n",
    "This conclusion is updated to be a comparison of two successful methods.\n",
    "\n",
    "- **Hierarchical Clustering** provided a straightforward path to success because the number of clusters `k=3` was a reasonable assumption for this dataset, a choice well-supported by the dendrogram.\n",
    "\n",
    "- **DBSCAN** was more challenging. Its success was highly dependent on parameter tuning. The process highlighted both its greatest weakness (parameter sensitivity) and its greatest strength (discovering a good clustering structure on its own). Once tuned, it produced a high-quality result without prior knowledge of the number of clusters."
   ]
  }
 ],
 "metadata": {
  "kernelspec": {
   "display_name": "Python 3",
   "language": "python",
   "name": "python3"
  },
  "language_info": {
   "codemirror_mode": {
    "name": "ipython",
    "version": 3
   },
   "file_extension": ".py",
   "mimetype": "text/x-python",
   "name": "python",
   "nbconvert_exporter": "python",
   "pygments_lexer": "ipython3",
   "version": "3.13.5"
  }
 },
 "nbformat": 4,
 "nbformat_minor": 5
}
